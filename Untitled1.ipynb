{
 "cells": [
  {
   "cell_type": "code",
   "execution_count": 1,
   "id": "e930fbb6-7a11-421c-bf29-c9719022f6d1",
   "metadata": {},
   "outputs": [],
   "source": [
    "import pandas as pd\n",
    "import xarray as xr\n",
    "import matplotlib.pyplot as plt\n",
    "import numpy as np\n",
    "\n",
    "import glob\n"
   ]
  },
  {
   "cell_type": "code",
   "execution_count": 2,
   "id": "e9eb2e7f-7424-4c99-b541-6a4a420590d3",
   "metadata": {},
   "outputs": [],
   "source": [
    "# merge all data together \n",
    "\n",
    "# # read all data\n",
    "\n",
    "directory = '/Users/varyabazilova/Desktop/uu/0_teaching/Msc_students/Leon/testera5land/ncfiles/'\n",
    "files = glob.glob(directory + '*.nc')\n",
    "\n",
    "# Use xarray.open_mfdataset to open and concatenate the .nc files\n",
    "data = xr.open_mfdataset(files)\n",
    "data = data.sortby('time')\n",
    "# data['tp'] = data.tp * 1000 # check units\n",
    "\n",
    "# shift 1 time step back \n",
    "data = data.shift(time= -1, fill_value=0).sortby('time')\n",
    "\n"
   ]
  },
  {
   "cell_type": "code",
   "execution_count": 3,
   "id": "f228e5e0-8434-4879-839d-ea97beea5357",
   "metadata": {},
   "outputs": [],
   "source": [
    "data['year'] = data['time.year']\n"
   ]
  },
  {
   "cell_type": "code",
   "execution_count": 4,
   "id": "2689bd1d-ddeb-4ef7-9181-0663f31c2612",
   "metadata": {},
   "outputs": [],
   "source": [
    "import os\n",
    "output_dir = 'yearly_data'\n",
    "os.makedirs(output_dir, exist_ok=True)"
   ]
  },
  {
   "cell_type": "code",
   "execution_count": 5,
   "id": "2bc93341-3d7a-4d5b-beb3-8a703c6d5593",
   "metadata": {},
   "outputs": [
    {
     "name": "stdout",
     "output_type": "stream",
     "text": [
      "CPU times: user 7min 4s, sys: 36.2 s, total: 7min 40s\n",
      "Wall time: 7min 38s\n"
     ]
    }
   ],
   "source": [
    "%%time\n",
    "\n",
    "for year in data['year'].values:\n",
    "    year_data = data.where(data['year'] == year, drop=True)\n",
    "    year_data = year_data.sortby('time')\n",
    "    # Define the filename for the year\n",
    "    filename = os.path.join(output_dir, f'{year}_xray_data.nc')\n",
    "    year_data.to_netcdf(filename)"
   ]
  },
  {
   "cell_type": "code",
   "execution_count": null,
   "id": "d0b7cf29-76cc-41f8-a7f9-3c608f4c0a0c",
   "metadata": {},
   "outputs": [],
   "source": [
    "# read new data:\n",
    "\n",
    "\n",
    "newdata2020 = xr.open_dataset('/Users/varyabazilova/Desktop/sedcas/varya_project/wsl_stay_10oct2022/yearly_data/2020_xray_data.nc')\n"
   ]
  },
  {
   "cell_type": "markdown",
   "id": "eed5702f-8ff0-476e-80cf-17e6075cd6e2",
   "metadata": {},
   "source": [
    "## loop again (for the new shifted data) \n"
   ]
  },
  {
   "cell_type": "code",
   "execution_count": 6,
   "id": "0c800569-457e-4f7f-b8e1-71bdf78cc873",
   "metadata": {},
   "outputs": [],
   "source": [
    "directory = '/Users/varyabazilova/Desktop/sedcas/varya_project/wsl_stay_10oct2022/yearly_data/'\n",
    "files = glob.glob(directory + '*.nc')"
   ]
  },
  {
   "cell_type": "code",
   "execution_count": 7,
   "id": "d506415b-3bc5-4d26-a30b-b583671f90a4",
   "metadata": {},
   "outputs": [],
   "source": [
    "# create an empty dataset to append new values to \n",
    "\n",
    "\n",
    "# Define the dimensions and coordinates (you can adjust these to your needs)\n",
    "dims = ('time', 'latitude', 'longitude')\n",
    "coords = {\n",
    "    'time': [],\n",
    "    'latitude': [],\n",
    "    'longitude': [],\n",
    "    # Add more coordinates as needed\n",
    "}\n",
    "\n",
    "# Create an empty xarray dataset with empty data variables\n",
    "empty_dataset = xr.Dataset(\n",
    "    {\n",
    "        'tp': (dims, np.nan * np.empty((0, 0, 0))),  \n",
    "    },\n",
    "    coords=coords\n",
    ")\n",
    "\n",
    "# empty_dataset"
   ]
  },
  {
   "cell_type": "code",
   "execution_count": 8,
   "id": "975e042f-e6f7-43ba-ae0b-37f800522b1d",
   "metadata": {},
   "outputs": [],
   "source": [
    "# define function \n",
    "def calculate_hourly_diff(arr):\n",
    "    ''' calculate difference''' \n",
    "    diff = arr - arr.shift(time=1, fill_value=0)\n",
    "    return xr.DataArray(diff, coords=arr.coords)\n",
    "\n",
    "# run for every file in the directory: \n",
    "for i in files: \n",
    "    i = xr.open_dataset(i)\n",
    "    i = i.shift(time = -1, fill_value = 0)\n",
    "    values = i.tp.groupby('time.dayofyear').apply(calculate_hourly_diff)\n",
    "    new_data = xr.Dataset({'tp': values})\n",
    "    \n",
    "    # after you run a \"year\", append to the \"empty_data\" to fill it \n",
    "    empty_dataset = xr.concat([empty_dataset, new_data], dim='time')\n",
    "\n",
    "empty_dataset = empty_dataset.sortby('time')"
   ]
  },
  {
   "cell_type": "code",
   "execution_count": 9,
   "id": "c3a6f144-4dd1-48cc-a10f-edecff2974a4",
   "metadata": {},
   "outputs": [],
   "source": [
    "# empty_dataset"
   ]
  },
  {
   "cell_type": "code",
   "execution_count": 10,
   "id": "bb82d120-7219-4a7f-9068-6ff67bf4e431",
   "metadata": {},
   "outputs": [
    {
     "data": {
      "text/html": [
       "<div>\n",
       "<style scoped>\n",
       "    .dataframe tbody tr th:only-of-type {\n",
       "        vertical-align: middle;\n",
       "    }\n",
       "\n",
       "    .dataframe tbody tr th {\n",
       "        vertical-align: top;\n",
       "    }\n",
       "\n",
       "    .dataframe thead th {\n",
       "        text-align: right;\n",
       "    }\n",
       "</style>\n",
       "<table border=\"1\" class=\"dataframe\">\n",
       "  <thead>\n",
       "    <tr style=\"text-align: right;\">\n",
       "      <th></th>\n",
       "      <th></th>\n",
       "      <th></th>\n",
       "      <th>tp</th>\n",
       "    </tr>\n",
       "    <tr>\n",
       "      <th>latitude</th>\n",
       "      <th>longitude</th>\n",
       "      <th>time</th>\n",
       "      <th></th>\n",
       "    </tr>\n",
       "  </thead>\n",
       "  <tbody>\n",
       "    <tr>\n",
       "      <th rowspan=\"5\" valign=\"top\">29.4</th>\n",
       "      <th rowspan=\"5\" valign=\"top\">83.400002</th>\n",
       "      <th>2020-01-01 23:00:00</th>\n",
       "      <td>-0.000335</td>\n",
       "    </tr>\n",
       "    <tr>\n",
       "      <th>2020-01-02 23:00:00</th>\n",
       "      <td>-0.001572</td>\n",
       "    </tr>\n",
       "    <tr>\n",
       "      <th>2020-01-03 23:00:00</th>\n",
       "      <td>-0.002308</td>\n",
       "    </tr>\n",
       "    <tr>\n",
       "      <th>2020-01-04 23:00:00</th>\n",
       "      <td>-0.000218</td>\n",
       "    </tr>\n",
       "    <tr>\n",
       "      <th>2020-01-05 23:00:00</th>\n",
       "      <td>-0.000032</td>\n",
       "    </tr>\n",
       "    <tr>\n",
       "      <th>...</th>\n",
       "      <th>...</th>\n",
       "      <th>...</th>\n",
       "      <td>...</td>\n",
       "    </tr>\n",
       "    <tr>\n",
       "      <th rowspan=\"5\" valign=\"top\">28.5</th>\n",
       "      <th rowspan=\"5\" valign=\"top\">84.300003</th>\n",
       "      <th>2022-12-27 23:00:00</th>\n",
       "      <td>-0.000146</td>\n",
       "    </tr>\n",
       "    <tr>\n",
       "      <th>2022-12-28 23:00:00</th>\n",
       "      <td>-0.000965</td>\n",
       "    </tr>\n",
       "    <tr>\n",
       "      <th>2022-12-29 23:00:00</th>\n",
       "      <td>-0.000690</td>\n",
       "    </tr>\n",
       "    <tr>\n",
       "      <th>2022-12-30 23:00:00</th>\n",
       "      <td>-0.002075</td>\n",
       "    </tr>\n",
       "    <tr>\n",
       "      <th>2022-12-31 22:00:00</th>\n",
       "      <td>-0.002031</td>\n",
       "    </tr>\n",
       "  </tbody>\n",
       "</table>\n",
       "<p>116652 rows × 1 columns</p>\n",
       "</div>"
      ],
      "text/plain": [
       "                                              tp\n",
       "latitude longitude time                         \n",
       "29.4     83.400002 2020-01-01 23:00:00 -0.000335\n",
       "                   2020-01-02 23:00:00 -0.001572\n",
       "                   2020-01-03 23:00:00 -0.002308\n",
       "                   2020-01-04 23:00:00 -0.000218\n",
       "                   2020-01-05 23:00:00 -0.000032\n",
       "...                                          ...\n",
       "28.5     84.300003 2022-12-27 23:00:00 -0.000146\n",
       "                   2022-12-28 23:00:00 -0.000965\n",
       "                   2022-12-29 23:00:00 -0.000690\n",
       "                   2022-12-30 23:00:00 -0.002075\n",
       "                   2022-12-31 22:00:00 -0.002031\n",
       "\n",
       "[116652 rows x 1 columns]"
      ]
     },
     "execution_count": 10,
     "metadata": {},
     "output_type": "execute_result"
    }
   ],
   "source": [
    "new_data_df = empty_dataset.to_dataframe()\n",
    "\n",
    "# Choose the column for which you want to find negative values\n",
    "\n",
    "# Filter and print rows with negative values in the selected column\n",
    "negative_rows = new_data_df[new_data_df.tp < 0]\n",
    "negative_rows\n",
    "# negative_rows = negative_rows.reset_index()"
   ]
  },
  {
   "cell_type": "code",
   "execution_count": null,
   "id": "0cb1ff87-c3fc-4d3f-93c5-66a2f7b7c358",
   "metadata": {},
   "outputs": [],
   "source": []
  },
  {
   "cell_type": "code",
   "execution_count": null,
   "id": "8776918f-a812-4ec3-9010-2cbdb4f8c510",
   "metadata": {},
   "outputs": [],
   "source": []
  },
  {
   "cell_type": "code",
   "execution_count": 11,
   "id": "e75fb793-a2fc-45e2-9b1f-34055943a641",
   "metadata": {},
   "outputs": [],
   "source": [
    "# cut_coords = new_data.sel(latitude=29.0, longitude=84.0, method='nearest')\n",
    "\n",
    "# slice data - take a day  \n",
    "start_date = '2020-12-30T00:00:00.000000000'\n",
    "end_date   = '2021-01-07T23:00:00.000000000'\n",
    "\n",
    "# Slice the dataset for a day \n",
    "empty_dataset_time = empty_dataset.sel(time=slice(start_date, end_date))\n",
    "\n",
    "\n",
    "empty_dataset_time_coords = empty_dataset_time.sel(latitude=29.0, longitude=84.0, method='nearest')\n"
   ]
  },
  {
   "cell_type": "code",
   "execution_count": 12,
   "id": "400e7597-ae10-47fc-86af-e3a2d55e2173",
   "metadata": {},
   "outputs": [
    {
     "data": {
      "text/plain": [
       "[<matplotlib.lines.Line2D at 0x7fca7196dbd0>]"
      ]
     },
     "execution_count": 12,
     "metadata": {},
     "output_type": "execute_result"
    },
    {
     "data": {
      "image/png": "[encoded data removed]",
      "text/plain": [
       "<Figure size 720x432 with 1 Axes>"
      ]
     },
     "metadata": {
      "needs_background": "light"
     },
     "output_type": "display_data"
    }
   ],
   "source": [
    "plt.figure(figsize = (10, 6))\n",
    "empty_dataset_time_coords.tp.plot()"
   ]
  },
  {
   "cell_type": "code",
   "execution_count": 13,
   "id": "ac5f5323-43b0-4ada-81a6-35cb440630b6",
   "metadata": {},
   "outputs": [],
   "source": [
    "empty_dataset_time_coords = empty_dataset_time_coords.to_dataframe()\n",
    "empty_dataset_time_coords = empty_dataset_time_coords[empty_dataset_time_coords.tp.values < 0]\n",
    "\n",
    "\n"
   ]
  },
  {
   "cell_type": "code",
   "execution_count": null,
   "id": "887a08e7-499c-4981-8cb7-709a941c8033",
   "metadata": {},
   "outputs": [],
   "source": [
    "empty_dataset_time_coords"
   ]
  },
  {
   "cell_type": "code",
   "execution_count": null,
   "id": "db3deb1a-9fc4-4c83-a0d3-c8a95847d565",
   "metadata": {},
   "outputs": [],
   "source": []
  },
  {
   "cell_type": "code",
   "execution_count": null,
   "id": "75f3bbee-59ff-4310-a112-10a37b328ec9",
   "metadata": {},
   "outputs": [],
   "source": []
  },
  {
   "cell_type": "code",
   "execution_count": null,
   "id": "fab9a2dc-6265-4d1a-92b0-15a07f030d7b",
   "metadata": {},
   "outputs": [],
   "source": []
  },
  {
   "cell_type": "code",
   "execution_count": null,
   "id": "c9e19af5-03bf-4847-a21b-b1191dfa6ee4",
   "metadata": {},
   "outputs": [],
   "source": []
  },
  {
   "cell_type": "code",
   "execution_count": null,
   "id": "9b9da5ee-36ef-42b6-bf09-f7770bc3ca59",
   "metadata": {},
   "outputs": [],
   "source": [
    "# newdata2020.time\n",
    "\n",
    "# 24*366"
   ]
  },
  {
   "cell_type": "code",
   "execution_count": null,
   "id": "7b45476c-8f4b-459e-9d35-b2894d986e59",
   "metadata": {},
   "outputs": [],
   "source": [
    "# define function \n",
    "def calculate_hourly_diff(arr):\n",
    "    ''' calculate difference''' \n",
    "    diff = arr - arr.shift(time=1, fill_value=0)\n",
    "    return xr.DataArray(diff, coords=arr.coords)\n"
   ]
  },
  {
   "cell_type": "code",
   "execution_count": null,
   "id": "e21ac902-2ac0-40c0-8937-06c88658a12a",
   "metadata": {},
   "outputs": [],
   "source": [
    "values = newdata2020.tp.groupby('time.dayofyear').apply(calculate_hourly_diff)\n",
    "new_data = xr.Dataset({'tp': values})\n",
    "\n",
    "\n"
   ]
  },
  {
   "cell_type": "code",
   "execution_count": null,
   "id": "de27f260-e6af-48d1-a377-fb37bde515ba",
   "metadata": {},
   "outputs": [],
   "source": [
    "new_data.tp.mean(dim = 'time').plot()"
   ]
  },
  {
   "cell_type": "code",
   "execution_count": null,
   "id": "86426e5b-31c6-46c1-8be0-3f0cc1deb9bd",
   "metadata": {},
   "outputs": [],
   "source": [
    "cut_coords = new_data.sel(latitude=29.0, longitude=84.0, method='nearest')\n",
    "\n",
    "# slice data - take a day  \n",
    "start_date = '2020-12-30T00:00:00.000000000'\n",
    "end_date   = '2020-12-31T23:00:00.000000000'\n",
    "\n",
    "# Slice the dataset for a day \n",
    "cut_time = cut_coords.sel(time=slice(start_date, end_date))\n",
    "\n",
    "\n",
    "\n",
    "# data\n",
    "data_cut_coords = data.sel(latitude=29.0, longitude=84.0, method='nearest')\n",
    "data_cut_time = data_cut_coords.sel(time=slice(start_date, end_date))\n"
   ]
  },
  {
   "cell_type": "code",
   "execution_count": null,
   "id": "4595dfd9-10ad-4ef6-af45-acb89b2b0940",
   "metadata": {},
   "outputs": [],
   "source": [
    "plt.figure(figsize = (20,5))\n",
    "# cut_coords.tp.plot()\n",
    "\n",
    "cut_time.tp.plot(label = 'new data')\n",
    "data_cut_time.tp.plot(label = 'old data')\n",
    "\n",
    "# plt.xticks(data_cut_time.time.values)"
   ]
  },
  {
   "cell_type": "code",
   "execution_count": null,
   "id": "4220e08b-cd2f-4c09-8185-689f6b7cb33d",
   "metadata": {},
   "outputs": [],
   "source": [
    "\n",
    "data_cut_timedf = data_cut_time.to_dataframe()\n",
    "cut_timedf = cut_time.to_dataframe()"
   ]
  },
  {
   "cell_type": "code",
   "execution_count": null,
   "id": "e67333cf-34c2-4223-998a-c62b2f99f433",
   "metadata": {},
   "outputs": [],
   "source": [
    "data_cut_timedf"
   ]
  },
  {
   "cell_type": "code",
   "execution_count": null,
   "id": "b9282b78-a0b8-49a2-8416-60264c9bd666",
   "metadata": {},
   "outputs": [],
   "source": [
    "cut_timedf"
   ]
  },
  {
   "cell_type": "code",
   "execution_count": null,
   "id": "318161b2-13a3-4380-ae73-b86bacac7957",
   "metadata": {},
   "outputs": [],
   "source": [
    "cut_coordsdf = cut_coords.to_dataframe()\n",
    "\n",
    "cut_coordsdf[cut_coordsdf['tp'] == cut_coordsdf['tp'].min()]\n"
   ]
  },
  {
   "cell_type": "code",
   "execution_count": null,
   "id": "32de1702-b903-425a-9888-f1588d9e75e5",
   "metadata": {},
   "outputs": [],
   "source": [
    "np.sum(cut_coords.tp.values <0)"
   ]
  },
  {
   "cell_type": "code",
   "execution_count": null,
   "id": "fd3a20cb-9eec-4c43-9422-e0ecda1cdf5f",
   "metadata": {},
   "outputs": [],
   "source": [
    "import xarray as xr\n",
    "\n",
    "# Assuming you have an Xarray dataset named 'ds'\n",
    "negative_values_mask = new_data.tp < 0\n",
    "count_negative_values = negative_values_mask.sum()\n",
    "\n",
    "# Get the actual negative values using the mask\n",
    "negative_values = new_data.where(negative_values_mask, drop=True)\n",
    "\n",
    "print(f\"Number of negative values: {count_negative_values}\")\n",
    "print(\"Negative values:\")\n",
    "# negative_values.tp.values"
   ]
  },
  {
   "cell_type": "code",
   "execution_count": null,
   "id": "b9d32489-0cd2-4c48-af00-f35a08e6ed06",
   "metadata": {},
   "outputs": [],
   "source": [
    "new_data_df = new_data.to_dataframe()\n",
    "\n",
    "# Choose the column for which you want to find negative values\n",
    "column_name = 'tp'\n",
    "\n",
    "# Filter and print rows with negative values in the selected column\n",
    "negative_rows = new_data_df[new_data_df[column_name] < 0]\n",
    "print(\"Rows with negative values:\")\n",
    "\n",
    "negative_rows"
   ]
  },
  {
   "cell_type": "code",
   "execution_count": null,
   "id": "6247cc62-d341-4052-aa43-32582fe05219",
   "metadata": {},
   "outputs": [],
   "source": [
    "negative_rows.tp.unique()"
   ]
  },
  {
   "cell_type": "code",
   "execution_count": null,
   "id": "46780dad-ecc9-4484-b639-4530d519f70b",
   "metadata": {},
   "outputs": [],
   "source": []
  }
 ],
 "metadata": {
  "kernelspec": {
   "display_name": "Python [conda env:project1] *",
   "language": "python",
   "name": "conda-env-project1-py"
  },
  "language_info": {
   "codemirror_mode": {
    "name": "ipython",
    "version": 3
   },
   "file_extension": ".py",
   "mimetype": "text/x-python",
   "name": "python",
   "nbconvert_exporter": "python",
   "pygments_lexer": "ipython3",
   "version": "3.7.11"
  }
 },
 "nbformat": 4,
 "nbformat_minor": 5
}
