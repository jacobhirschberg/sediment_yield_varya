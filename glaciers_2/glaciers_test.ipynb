{
 "cells": [
  {
   "cell_type": "code",
   "execution_count": 3,
   "id": "697b5203-bcab-4a96-a530-6fd6532a6c7e",
   "metadata": {},
   "outputs": [],
   "source": [
    "import pandas as pd\n",
    "import matplotlib.pyplot as plt\n",
    "import os \n",
    "import numpy as np\n",
    "\n",
    "%matplotlib inline"
   ]
  },
  {
   "cell_type": "code",
   "execution_count": null,
   "id": "92941848-faf4-4a33-a7ca-5c0f76103591",
   "metadata": {},
   "outputs": [],
   "source": [
    "# Vwcap for 'glacier' HRU - stops breaking when bigger or eq. then 0.25\n",
    "# snowacc - total snow and ice accumulation \n",
    "# - varya "
   ]
  },
  {
   "cell_type": "markdown",
   "id": "9920a764-4862-45ee-bb9e-dac7dc33934c",
   "metadata": {},
   "source": [
    "## Jacob's model"
   ]
  },
  {
   "cell_type": "code",
   "execution_count": null,
   "id": "a2c7e627-89a0-448f-8fd7-e70a83e25a37",
   "metadata": {},
   "outputs": [],
   "source": [
    "\"\"\"\n",
    "Created on Thu Feb  3 16:56:57 2022\n",
    "\n",
    "@author: hirschbe\n",
    "\"\"\"\n",
    "\n",
    "\n",
    "# only 2 HRUs\n",
    "\n",
    "# from SedCas_glacier import SedCas\n",
    "from SedCas import SedCas\n",
    "\n",
    "# \n",
    "model = SedCas()\n",
    "model.load_climate()\n",
    "model.load_params()\n",
    "model.run_hydro()\n",
    "model.run_sediment()\n",
    "model.save_output()\n",
    "model.plot_sedyield_monthly()\n",
    "\n",
    "\n"
   ]
  },
  {
   "cell_type": "code",
   "execution_count": null,
   "id": "bc648099-cfd4-4b46-8f4d-73192d04aa4e",
   "metadata": {},
   "outputs": [],
   "source": []
  },
  {
   "cell_type": "code",
   "execution_count": null,
   "id": "79afb2d0-f730-4d48-95a5-4caa8d012ca3",
   "metadata": {},
   "outputs": [],
   "source": [
    "hydro_out = pd.read_csv('jacob_model/Hydro.out')#.set_index('D')\n",
    "\n",
    "hydro_out"
   ]
  },
  {
   "cell_type": "markdown",
   "id": "4220a80a-8916-4b0c-8935-a797592c8e3d",
   "metadata": {},
   "source": [
    "### balance check "
   ]
  },
  {
   "cell_type": "code",
   "execution_count": null,
   "id": "531b5aaf-e67d-4767-ae60-d57252f0156a",
   "metadata": {},
   "outputs": [],
   "source": [
    "hydro_out.Q.sum() - hydro_out.Pr.sum() "
   ]
  },
  {
   "cell_type": "code",
   "execution_count": null,
   "id": "b39cea62-07e9-4091-9141-a9b5538919e5",
   "metadata": {},
   "outputs": [],
   "source": [
    "hydro_out.snowacc.sum() # very small number "
   ]
  },
  {
   "cell_type": "code",
   "execution_count": null,
   "id": "33e47bf1-f912-4e2f-9074-9dc0e6a7e093",
   "metadata": {},
   "outputs": [],
   "source": [
    "hydro_out.AET.sum()"
   ]
  },
  {
   "cell_type": "code",
   "execution_count": null,
   "id": "95685448-877e-43a2-b749-76a5f2ff5571",
   "metadata": {},
   "outputs": [],
   "source": [
    "# Change in storage: \n",
    "ds = hydro_out.Vw.values[-1] - hydro_out.Vw.values[0] + hydro_out.snow.values[-1] - hydro_out.snow.values[0]\n",
    "\n",
    "print(ds)"
   ]
  },
  {
   "cell_type": "code",
   "execution_count": null,
   "id": "dfa0d36d-de71-4aa5-b337-52a512d7c98c",
   "metadata": {},
   "outputs": [],
   "source": [
    "# total balance: \n",
    "# Pr + gmelt – AET – Q – ds \n",
    "\n",
    "b = hydro_out.Pr.sum() - hydro_out.AET.sum() - hydro_out.Q.sum() - ds\n",
    "\n",
    "print(round(b, 10))"
   ]
  },
  {
   "cell_type": "code",
   "execution_count": null,
   "id": "532a5b82-2163-4f20-ad13-733ee797e4df",
   "metadata": {},
   "outputs": [],
   "source": [
    "hydro_out.Vw.values[-1] - hydro_out.Vw.values[0]"
   ]
  },
  {
   "cell_type": "code",
   "execution_count": null,
   "id": "75361dcb-d3b9-4c25-852e-97b3cb06c5c8",
   "metadata": {},
   "outputs": [],
   "source": [
    "hydro_out.snow.values[-1] - hydro_out.snow.values[0]"
   ]
  },
  {
   "cell_type": "code",
   "execution_count": null,
   "id": "6ef6f0a0-9c90-4044-89bf-76438c16aa6c",
   "metadata": {},
   "outputs": [],
   "source": []
  },
  {
   "cell_type": "code",
   "execution_count": null,
   "id": "c58cdb3e-1299-42f5-80cb-683abddc91c0",
   "metadata": {},
   "outputs": [],
   "source": []
  },
  {
   "cell_type": "markdown",
   "id": "f428ca84-5bb1-4c49-abee-4eb8cd2a8c3a",
   "metadata": {},
   "source": [
    "## glacier model "
   ]
  },
  {
   "cell_type": "code",
   "execution_count": null,
   "id": "33c31d34-41b5-49e4-b10e-012d3cb8130e",
   "metadata": {},
   "outputs": [],
   "source": [
    "# 3 HRUs, but glaciers are 0 \n",
    "\n",
    "from SedCas_glacier import SedCas\n",
    "# from SedCas import SedCas\n",
    "\n",
    "# \n",
    "model = SedCas()\n",
    "model.load_climate()\n",
    "model.load_params()\n",
    "model.run_hydro()\n",
    "model.run_sediment()\n",
    "model.save_output()\n",
    "model.plot_sedyield_monthly()\n",
    "\n",
    "\n"
   ]
  },
  {
   "cell_type": "code",
   "execution_count": null,
   "id": "d1f00077-d3f1-4904-93d5-22c1836dcc51",
   "metadata": {},
   "outputs": [],
   "source": [
    "hydro_out = pd.read_csv('glacier_model/0gl_Hydro.out')#.set_index('D')\n",
    "\n",
    "hydro_out"
   ]
  },
  {
   "cell_type": "code",
   "execution_count": null,
   "id": "5630a11a-86aa-4e17-bdd0-507d69db2a96",
   "metadata": {},
   "outputs": [],
   "source": [
    "# Change in storage: \n",
    "ds = hydro_out.Vw.values[-1] - hydro_out.Vw.values[0] + hydro_out.snow.values[-1] - hydro_out.snow.values[0]\n",
    "\n",
    "print(ds)"
   ]
  },
  {
   "cell_type": "code",
   "execution_count": null,
   "id": "2bb75732-f935-403f-b8c1-58b90e605997",
   "metadata": {},
   "outputs": [],
   "source": [
    "# total balance: \n",
    "# Pr + gmelt – AET – Q – ds \n",
    "\n",
    "b = hydro_out.Pr.sum() + hydro_out.glacier_melt.sum() - hydro_out.AET.sum() - hydro_out.Q.sum() - ds\n",
    "\n",
    "print(round(b, 10))"
   ]
  },
  {
   "cell_type": "code",
   "execution_count": null,
   "id": "cc676506-df68-40d4-ab1c-fd45c099078f",
   "metadata": {},
   "outputs": [],
   "source": [
    "hydro_out.Q.sum()"
   ]
  },
  {
   "cell_type": "code",
   "execution_count": null,
   "id": "1f6fab76-2236-4154-b6d2-7bcc30554cae",
   "metadata": {},
   "outputs": [],
   "source": [
    "hydro_out.AET.sum() "
   ]
  },
  {
   "cell_type": "code",
   "execution_count": null,
   "id": "81608c1e-b256-4e62-be52-516514b1395f",
   "metadata": {},
   "outputs": [],
   "source": []
  },
  {
   "cell_type": "code",
   "execution_count": null,
   "id": "e34b9ece-f77e-4ed4-868c-51f928fa0458",
   "metadata": {},
   "outputs": [],
   "source": []
  },
  {
   "cell_type": "code",
   "execution_count": null,
   "id": "349215d5-bbab-4cb3-9224-36638cf0f1b2",
   "metadata": {},
   "outputs": [],
   "source": [
    "\n",
    "\n",
    "# 3 HRUs, but glaciers are 0.1 \n",
    "\n",
    "from SedCas_glacier import SedCas\n",
    "# from SedCas import SedCas\n",
    "\n",
    "# \n",
    "model = SedCas()\n",
    "model.load_climate()\n",
    "model.load_params()\n",
    "model.run_hydro()\n",
    "model.run_sediment()\n",
    "model.save_output()\n",
    "model.plot_sedyield_monthly()\n",
    "\n",
    "\n"
   ]
  },
  {
   "cell_type": "code",
   "execution_count": null,
   "id": "6263bc3f-f5d3-475c-aaf8-358f99de74e5",
   "metadata": {},
   "outputs": [],
   "source": [
    "hydro_out1 = pd.read_csv('glacier_model/01gl_Hydro.out')#.set_index('D')\n",
    "\n",
    "hydro_out1"
   ]
  },
  {
   "cell_type": "code",
   "execution_count": null,
   "id": "a728845a-bff7-4c66-b229-787b1329fde0",
   "metadata": {},
   "outputs": [],
   "source": [
    "# Change in storage: \n",
    "ds1 = hydro_out1.Vw.values[-1] - hydro_out1.Vw.values[0] + hydro_out1.snow.values[-1] - hydro_out1.snow.values[0]\n",
    "\n",
    "print(ds1)"
   ]
  },
  {
   "cell_type": "code",
   "execution_count": null,
   "id": "2bc78b62-eeae-420a-b194-558c397aeafa",
   "metadata": {},
   "outputs": [],
   "source": [
    "# total balance: \n",
    "# Pr + gmelt – AET – Q – ds \n",
    "\n",
    "# b = hydro_out.Pr.sum() + hydro_out.glacier_melt.sum() - hydro_out.AET.sum() - hydro_out.Q.sum() - ds\n",
    "\n",
    "b1 = hydro_out1.Pr.sum() + hydro_out1.glacier_melt.sum() - hydro_out1.AET.sum() - hydro_out1.Q.sum() - ds1\n",
    "\n",
    "print(round(b1, 10))"
   ]
  },
  {
   "cell_type": "code",
   "execution_count": null,
   "id": "7b37ffea-9897-44ed-a069-92fd78f52b38",
   "metadata": {},
   "outputs": [],
   "source": [
    "hydro_out1.glacier_melt.sum()"
   ]
  },
  {
   "cell_type": "code",
   "execution_count": null,
   "id": "2cb5da25-07f1-4015-a521-20cc60e24760",
   "metadata": {},
   "outputs": [],
   "source": [
    "hydro_out1.Q.sum()"
   ]
  },
  {
   "cell_type": "code",
   "execution_count": null,
   "id": "195600f3-8a51-44f2-ab8e-110e5752f3e9",
   "metadata": {},
   "outputs": [],
   "source": [
    "hydro_out1.AET.sum()"
   ]
  },
  {
   "cell_type": "code",
   "execution_count": null,
   "id": "c02a4030-f8bc-4512-a2fc-635e802849e7",
   "metadata": {},
   "outputs": [],
   "source": []
  },
  {
   "cell_type": "code",
   "execution_count": 1,
   "id": "28f61d20-401b-4697-9d18-0d171ed1ebaa",
   "metadata": {},
   "outputs": [
    {
     "name": "stdout",
     "output_type": "stream",
     "text": [
      "s variable                      depth  ddepth  sacc  smelt  albedo\n",
      "D                                                      \n",
      "1999-10-01 00:00:00    0.0     0.0   0.0  0.408    0.15\n",
      "1999-10-01 01:00:00    0.0     0.0   0.0  0.000    0.15\n",
      "1999-10-01 02:00:00    0.0     0.0   0.0  0.000    0.15\n",
      "1999-10-01 03:00:00    0.0     0.0   0.0  0.000    0.15\n",
      "1999-10-01 04:00:00    0.0     0.0   0.0  0.000    0.15\n",
      "...                    ...     ...   ...    ...     ...\n",
      "2017-10-31 19:00:00    0.0     0.0   0.0  0.000    0.15\n",
      "2017-10-31 20:00:00    0.0     0.0   0.0  0.000    0.15\n",
      "2017-10-31 21:00:00    0.0     0.0   0.0  0.000    0.15\n",
      "2017-10-31 22:00:00    0.0     0.0   0.0  0.000    0.15\n",
      "2017-10-31 23:00:00    0.0     0.0   0.0  0.000    0.15\n",
      "\n",
      "[158544 rows x 5 columns]\n",
      "...\n",
      "...\n",
      "...\n",
      "s variable                      depth  ddepth  sacc  smelt  albedo\n",
      "D                                                      \n",
      "1999-10-01 00:00:00    0.0     0.0   0.0  0.408    0.25\n",
      "1999-10-01 01:00:00    0.0     0.0   0.0  0.000    0.25\n",
      "1999-10-01 02:00:00    0.0     0.0   0.0  0.000    0.25\n",
      "1999-10-01 03:00:00    0.0     0.0   0.0  0.000    0.25\n",
      "1999-10-01 04:00:00    0.0     0.0   0.0  0.000    0.25\n",
      "...                    ...     ...   ...    ...     ...\n",
      "2017-10-31 19:00:00    0.0     0.0   0.0  0.000    0.25\n",
      "2017-10-31 20:00:00    0.0     0.0   0.0  0.000    0.25\n",
      "2017-10-31 21:00:00    0.0     0.0   0.0  0.000    0.25\n",
      "2017-10-31 22:00:00    0.0     0.0   0.0  0.000    0.25\n",
      "2017-10-31 23:00:00    0.0     0.0   0.0  0.000    0.25\n",
      "\n",
      "[158544 rows x 5 columns]\n",
      "...\n",
      "...\n",
      "...\n",
      "s variable                      depth  ddepth  sacc  smelt  albedo\n",
      "D                                                      \n",
      "1999-10-01 00:00:00    0.0     0.0   0.0  0.408     0.5\n",
      "1999-10-01 01:00:00    0.0     0.0   0.0  0.000     0.5\n",
      "1999-10-01 02:00:00    0.0     0.0   0.0  0.000     0.5\n",
      "1999-10-01 03:00:00    0.0     0.0   0.0  0.000     0.5\n",
      "1999-10-01 04:00:00    0.0     0.0   0.0  0.000     0.5\n",
      "...                    ...     ...   ...    ...     ...\n",
      "2017-10-31 19:00:00    0.0     0.0   0.0  0.000     0.5\n",
      "2017-10-31 20:00:00    0.0     0.0   0.0  0.000     0.5\n",
      "2017-10-31 21:00:00    0.0     0.0   0.0  0.000     0.5\n",
      "2017-10-31 22:00:00    0.0     0.0   0.0  0.000     0.5\n",
      "2017-10-31 23:00:00    0.0     0.0   0.0  0.000     0.5\n",
      "\n",
      "[158544 rows x 5 columns]\n",
      "...\n",
      "...\n",
      "...\n",
      "g variable                           depth  ddepth  sacc  smelt  albedo\n",
      "D                                                           \n",
      "1999-10-01 00:00:00  100000.000   0.000   0.0  0.408    0.65\n",
      "1999-10-01 01:00:00   99999.600  -0.400   0.0  0.400    0.65\n",
      "1999-10-01 02:00:00   99999.184  -0.416   0.0  0.416    0.65\n",
      "1999-10-01 03:00:00   99998.768  -0.416   0.0  0.416    0.65\n",
      "1999-10-01 04:00:00   99998.352  -0.416   0.0  0.416    0.65\n",
      "...                         ...     ...   ...    ...     ...\n",
      "2017-10-31 19:00:00   26073.796  -0.072   0.0  0.072    0.65\n",
      "2017-10-31 20:00:00   26073.724  -0.072   0.0  0.072    0.65\n",
      "2017-10-31 21:00:00   26073.652  -0.072   0.0  0.072    0.65\n",
      "2017-10-31 22:00:00   26073.580  -0.072   0.0  0.072    0.65\n",
      "2017-10-31 23:00:00   26073.484  -0.096   0.0  0.096    0.65\n",
      "\n",
      "[158544 rows x 5 columns]\n",
      "...\n",
      "...\n",
      "...\n",
      "s with g variable                      depth  ddepth  sacc  smelt  albedo\n",
      "D                                                      \n",
      "1999-10-01 00:00:00    0.0   0.000   0.0  0.816    1.15\n",
      "1999-10-01 01:00:00    0.0  -0.400   0.0  0.400    1.15\n",
      "1999-10-01 02:00:00    0.0  -0.416   0.0  0.416    1.15\n",
      "1999-10-01 03:00:00    0.0  -0.416   0.0  0.416    1.15\n",
      "1999-10-01 04:00:00    0.0  -0.416   0.0  0.416    1.15\n",
      "...                    ...     ...   ...    ...     ...\n",
      "2017-10-31 19:00:00    0.0  -0.072   0.0  0.072    1.15\n",
      "2017-10-31 20:00:00    0.0  -0.072   0.0  0.072    1.15\n",
      "2017-10-31 21:00:00    0.0  -0.072   0.0  0.072    1.15\n",
      "2017-10-31 22:00:00    0.0  -0.072   0.0  0.072    1.15\n",
      "2017-10-31 23:00:00    0.0  -0.096   0.0  0.096    1.15\n",
      "\n",
      "[158544 rows x 5 columns]\n",
      "...\n",
      "...\n",
      "...\n",
      "running sediment module...\n"
     ]
    },
    {
     "name": "stderr",
     "output_type": "stream",
     "text": [
      "  0%|                                                     | 0/1 [00:00<?, ?it/s]/Users/varyabazilova/Desktop/sedcas/varya_project/wsl_stay_10oct2022/glaciers_2/modules.py:976: SettingWithCopyWarning: \n",
      "A value is trying to be set on a copy of a slice from a DataFrame\n",
      "\n",
      "See the caveats in the documentation: https://pandas.pydata.org/pandas-docs/stable/user_guide/indexing.html#returning-a-view-versus-a-copy\n",
      "  dfcond['cond2'][1:] = dfcond.cond1[:-1]\n",
      "100%|█████████████████████████████████████████████| 1/1 [00:00<00:00,  1.67it/s]\n"
     ]
    },
    {
     "name": "stdout",
     "output_type": "stream",
     "text": [
      "hello world\n"
     ]
    },
    {
     "data": {
      "image/png": "[encoded data removed]",
      "text/plain": [
       "<Figure size 432x288 with 1 Axes>"
      ]
     },
     "metadata": {
      "needs_background": "light"
     },
     "output_type": "display_data"
    }
   ],
   "source": [
    "## only 1 HRU - glacier, rest - 0\n",
    "\n",
    "\n",
    "from SedCas_glacier import SedCas\n",
    "# from SedCas import SedCas\n",
    "\n",
    "# \n",
    "model = SedCas()\n",
    "model.load_climate()\n",
    "model.load_params()\n",
    "model.run_hydro()\n",
    "model.run_sediment()\n",
    "model.save_output()\n",
    "model.plot_sedyield_monthly()\n",
    "\n",
    "\n"
   ]
  },
  {
   "cell_type": "code",
   "execution_count": 4,
   "id": "0d7f8db2-bbbf-4ee2-a1ee-b8be75b74192",
   "metadata": {},
   "outputs": [
    {
     "data": {
      "text/html": [
       "<div>\n",
       "<style scoped>\n",
       "    .dataframe tbody tr th:only-of-type {\n",
       "        vertical-align: middle;\n",
       "    }\n",
       "\n",
       "    .dataframe tbody tr th {\n",
       "        vertical-align: top;\n",
       "    }\n",
       "\n",
       "    .dataframe thead th {\n",
       "        text-align: right;\n",
       "    }\n",
       "</style>\n",
       "<table border=\"1\" class=\"dataframe\">\n",
       "  <thead>\n",
       "    <tr style=\"text-align: right;\">\n",
       "      <th></th>\n",
       "      <th>D</th>\n",
       "      <th>Q</th>\n",
       "      <th>Qs</th>\n",
       "      <th>Qss</th>\n",
       "      <th>Vw</th>\n",
       "      <th>snow</th>\n",
       "      <th>snowacc</th>\n",
       "      <th>PET</th>\n",
       "      <th>AET</th>\n",
       "      <th>Pr</th>\n",
       "      <th>Ta</th>\n",
       "      <th>glacier_melt</th>\n",
       "      <th>snow_melt</th>\n",
       "    </tr>\n",
       "  </thead>\n",
       "  <tbody>\n",
       "    <tr>\n",
       "      <th>0</th>\n",
       "      <td>1999-10-01 00:00:00</td>\n",
       "      <td>0.000000</td>\n",
       "      <td>0.0</td>\n",
       "      <td>0.000000</td>\n",
       "      <td>0.000000</td>\n",
       "      <td>0.0</td>\n",
       "      <td>0.0000</td>\n",
       "      <td>0.0</td>\n",
       "      <td>0.0</td>\n",
       "      <td>0.0</td>\n",
       "      <td>5.6</td>\n",
       "      <td>0.0408</td>\n",
       "      <td>-4.080000e-02</td>\n",
       "    </tr>\n",
       "    <tr>\n",
       "      <th>1</th>\n",
       "      <td>1999-10-01 01:00:00</td>\n",
       "      <td>0.040000</td>\n",
       "      <td>0.0</td>\n",
       "      <td>0.040000</td>\n",
       "      <td>0.000000</td>\n",
       "      <td>0.0</td>\n",
       "      <td>-0.0400</td>\n",
       "      <td>0.0</td>\n",
       "      <td>0.0</td>\n",
       "      <td>0.0</td>\n",
       "      <td>5.5</td>\n",
       "      <td>0.0400</td>\n",
       "      <td>-5.820788e-13</td>\n",
       "    </tr>\n",
       "    <tr>\n",
       "      <th>2</th>\n",
       "      <td>1999-10-01 02:00:00</td>\n",
       "      <td>0.041600</td>\n",
       "      <td>0.0</td>\n",
       "      <td>0.041600</td>\n",
       "      <td>0.000000</td>\n",
       "      <td>0.0</td>\n",
       "      <td>-0.0416</td>\n",
       "      <td>0.0</td>\n",
       "      <td>0.0</td>\n",
       "      <td>0.0</td>\n",
       "      <td>5.7</td>\n",
       "      <td>0.0416</td>\n",
       "      <td>-2.561173e-13</td>\n",
       "    </tr>\n",
       "    <tr>\n",
       "      <th>3</th>\n",
       "      <td>1999-10-01 03:00:00</td>\n",
       "      <td>0.090303</td>\n",
       "      <td>0.0</td>\n",
       "      <td>0.090303</td>\n",
       "      <td>0.351297</td>\n",
       "      <td>0.0</td>\n",
       "      <td>-0.0416</td>\n",
       "      <td>0.0</td>\n",
       "      <td>0.0</td>\n",
       "      <td>0.4</td>\n",
       "      <td>5.7</td>\n",
       "      <td>0.0416</td>\n",
       "      <td>-2.561173e-13</td>\n",
       "    </tr>\n",
       "    <tr>\n",
       "      <th>4</th>\n",
       "      <td>1999-10-01 04:00:00</td>\n",
       "      <td>0.062108</td>\n",
       "      <td>0.0</td>\n",
       "      <td>0.062108</td>\n",
       "      <td>0.430789</td>\n",
       "      <td>0.0</td>\n",
       "      <td>-0.0416</td>\n",
       "      <td>0.0</td>\n",
       "      <td>0.0</td>\n",
       "      <td>0.1</td>\n",
       "      <td>5.7</td>\n",
       "      <td>0.0416</td>\n",
       "      <td>-2.561173e-13</td>\n",
       "    </tr>\n",
       "    <tr>\n",
       "      <th>...</th>\n",
       "      <td>...</td>\n",
       "      <td>...</td>\n",
       "      <td>...</td>\n",
       "      <td>...</td>\n",
       "      <td>...</td>\n",
       "      <td>...</td>\n",
       "      <td>...</td>\n",
       "      <td>...</td>\n",
       "      <td>...</td>\n",
       "      <td>...</td>\n",
       "      <td>...</td>\n",
       "      <td>...</td>\n",
       "      <td>...</td>\n",
       "    </tr>\n",
       "    <tr>\n",
       "      <th>158539</th>\n",
       "      <td>2017-10-31 19:00:00</td>\n",
       "      <td>0.009626</td>\n",
       "      <td>0.0</td>\n",
       "      <td>0.009626</td>\n",
       "      <td>0.599051</td>\n",
       "      <td>0.0</td>\n",
       "      <td>-0.0072</td>\n",
       "      <td>0.0</td>\n",
       "      <td>0.0</td>\n",
       "      <td>0.0</td>\n",
       "      <td>1.4</td>\n",
       "      <td>0.0072</td>\n",
       "      <td>1.164208e-14</td>\n",
       "    </tr>\n",
       "    <tr>\n",
       "      <th>158540</th>\n",
       "      <td>2017-10-31 20:00:00</td>\n",
       "      <td>0.009617</td>\n",
       "      <td>0.0</td>\n",
       "      <td>0.009617</td>\n",
       "      <td>0.596634</td>\n",
       "      <td>0.0</td>\n",
       "      <td>-0.0072</td>\n",
       "      <td>0.0</td>\n",
       "      <td>0.0</td>\n",
       "      <td>0.0</td>\n",
       "      <td>1.4</td>\n",
       "      <td>0.0072</td>\n",
       "      <td>1.164208e-14</td>\n",
       "    </tr>\n",
       "    <tr>\n",
       "      <th>158541</th>\n",
       "      <td>2017-10-31 21:00:00</td>\n",
       "      <td>0.009608</td>\n",
       "      <td>0.0</td>\n",
       "      <td>0.009608</td>\n",
       "      <td>0.594226</td>\n",
       "      <td>0.0</td>\n",
       "      <td>-0.0072</td>\n",
       "      <td>0.0</td>\n",
       "      <td>0.0</td>\n",
       "      <td>0.0</td>\n",
       "      <td>1.4</td>\n",
       "      <td>0.0072</td>\n",
       "      <td>1.164208e-14</td>\n",
       "    </tr>\n",
       "    <tr>\n",
       "      <th>158542</th>\n",
       "      <td>2017-10-31 22:00:00</td>\n",
       "      <td>0.009599</td>\n",
       "      <td>0.0</td>\n",
       "      <td>0.009599</td>\n",
       "      <td>0.591827</td>\n",
       "      <td>0.0</td>\n",
       "      <td>-0.0072</td>\n",
       "      <td>0.0</td>\n",
       "      <td>0.0</td>\n",
       "      <td>0.0</td>\n",
       "      <td>1.4</td>\n",
       "      <td>0.0072</td>\n",
       "      <td>1.164208e-14</td>\n",
       "    </tr>\n",
       "    <tr>\n",
       "      <th>158543</th>\n",
       "      <td>2017-10-31 23:00:00</td>\n",
       "      <td>0.011990</td>\n",
       "      <td>0.0</td>\n",
       "      <td>0.011990</td>\n",
       "      <td>0.589436</td>\n",
       "      <td>0.0</td>\n",
       "      <td>-0.0096</td>\n",
       "      <td>0.0</td>\n",
       "      <td>0.0</td>\n",
       "      <td>0.0</td>\n",
       "      <td>1.7</td>\n",
       "      <td>0.0096</td>\n",
       "      <td>1.367878e-13</td>\n",
       "    </tr>\n",
       "  </tbody>\n",
       "</table>\n",
       "<p>158544 rows × 13 columns</p>\n",
       "</div>"
      ],
      "text/plain": [
       "                          D         Q   Qs       Qss        Vw  snow  snowacc  \\\n",
       "0       1999-10-01 00:00:00  0.000000  0.0  0.000000  0.000000   0.0   0.0000   \n",
       "1       1999-10-01 01:00:00  0.040000  0.0  0.040000  0.000000   0.0  -0.0400   \n",
       "2       1999-10-01 02:00:00  0.041600  0.0  0.041600  0.000000   0.0  -0.0416   \n",
       "3       1999-10-01 03:00:00  0.090303  0.0  0.090303  0.351297   0.0  -0.0416   \n",
       "4       1999-10-01 04:00:00  0.062108  0.0  0.062108  0.430789   0.0  -0.0416   \n",
       "...                     ...       ...  ...       ...       ...   ...      ...   \n",
       "158539  2017-10-31 19:00:00  0.009626  0.0  0.009626  0.599051   0.0  -0.0072   \n",
       "158540  2017-10-31 20:00:00  0.009617  0.0  0.009617  0.596634   0.0  -0.0072   \n",
       "158541  2017-10-31 21:00:00  0.009608  0.0  0.009608  0.594226   0.0  -0.0072   \n",
       "158542  2017-10-31 22:00:00  0.009599  0.0  0.009599  0.591827   0.0  -0.0072   \n",
       "158543  2017-10-31 23:00:00  0.011990  0.0  0.011990  0.589436   0.0  -0.0096   \n",
       "\n",
       "        PET  AET   Pr   Ta  glacier_melt     snow_melt  \n",
       "0       0.0  0.0  0.0  5.6        0.0408 -4.080000e-02  \n",
       "1       0.0  0.0  0.0  5.5        0.0400 -5.820788e-13  \n",
       "2       0.0  0.0  0.0  5.7        0.0416 -2.561173e-13  \n",
       "3       0.0  0.0  0.4  5.7        0.0416 -2.561173e-13  \n",
       "4       0.0  0.0  0.1  5.7        0.0416 -2.561173e-13  \n",
       "...     ...  ...  ...  ...           ...           ...  \n",
       "158539  0.0  0.0  0.0  1.4        0.0072  1.164208e-14  \n",
       "158540  0.0  0.0  0.0  1.4        0.0072  1.164208e-14  \n",
       "158541  0.0  0.0  0.0  1.4        0.0072  1.164208e-14  \n",
       "158542  0.0  0.0  0.0  1.4        0.0072  1.164208e-14  \n",
       "158543  0.0  0.0  0.0  1.7        0.0096  1.367878e-13  \n",
       "\n",
       "[158544 rows x 13 columns]"
      ]
     },
     "execution_count": 4,
     "metadata": {},
     "output_type": "execute_result"
    }
   ],
   "source": [
    "hydro_out2 = pd.read_csv('glacier_model/Hydrotest.out')#.set_index('D')\n",
    "\n",
    "hydro_out2"
   ]
  },
  {
   "cell_type": "code",
   "execution_count": 6,
   "id": "d8a961d0-b787-4cf0-b911-13a6f64b98d5",
   "metadata": {},
   "outputs": [
    {
     "name": "stdout",
     "output_type": "stream",
     "text": [
      "0.5894364347366297\n"
     ]
    }
   ],
   "source": [
    "# Change in storage: \n",
    "ds2 = hydro_out2.Vw.values[-1] - hydro_out2.Vw.values[0] + hydro_out2.snow.values[-1] - hydro_out2.snow.values[0]\n",
    "\n",
    "print(ds2)"
   ]
  },
  {
   "cell_type": "code",
   "execution_count": 20,
   "id": "95f02d67-b600-404c-82cb-791cf5130f61",
   "metadata": {},
   "outputs": [],
   "source": [
    "hydro_out2['Qgl'] = hydro_out2.Q + hydro_out2.glacier_melt"
   ]
  },
  {
   "cell_type": "code",
   "execution_count": 21,
   "id": "938c668f-84b4-408e-8b95-87ed84e2d88c",
   "metadata": {},
   "outputs": [
    {
     "name": "stdout",
     "output_type": "stream",
     "text": [
      "-9.9853476353\n"
     ]
    }
   ],
   "source": [
    "# total balance: \n",
    "# Pr + gmelt – AET – Q – ds \n",
    "\n",
    "# b = hydro_out.Pr.sum() + hydro_out.glacier_melt.sum() - hydro_out.AET.sum() - hydro_out.Q.sum() - ds\n",
    "\n",
    "# b2 = hydro_out2.Pr.sum() + hydro_out2.glacier_melt.sum() - hydro_out2.AET.sum() - hydro_out2.Q.sum() - ds2\n",
    "ds = hydro_out.Vw.values[-1] - hydro_out.Vw.values[0] + hydro_out.snow.values[-1] - hydro_out.snow.values[0]\n",
    "balance = hydro_out.Pr.sum() - hydro_out.AET.sum() - hydro_out.Qgl.sum() - ds\n",
    "\n",
    "\n",
    "print(round(b2, 10))"
   ]
  },
  {
   "cell_type": "code",
   "execution_count": 9,
   "id": "5f5e68a7-1319-41c1-affe-3d213fc333a2",
   "metadata": {},
   "outputs": [
    {
     "data": {
      "text/plain": [
       "5945.951200000455"
      ]
     },
     "execution_count": 9,
     "metadata": {},
     "output_type": "execute_result"
    }
   ],
   "source": [
    "hydro_out2.snow_melt.sum()"
   ]
  },
  {
   "cell_type": "code",
   "execution_count": 10,
   "id": "be942075-90bb-4739-87d5-5ba03c3c82a8",
   "metadata": {},
   "outputs": [
    {
     "data": {
      "text/plain": [
       "<AxesSubplot:>"
      ]
     },
     "execution_count": 10,
     "metadata": {},
     "output_type": "execute_result"
    },
    {
     "data": {
      "image/png": "[encoded data removed]",
      "text/plain": [
       "<Figure size 432x288 with 1 Axes>"
      ]
     },
     "metadata": {
      "needs_background": "light"
     },
     "output_type": "display_data"
    }
   ],
   "source": [
    "\n",
    "\n",
    "hydro_out2.snow_melt.plot()"
   ]
  },
  {
   "cell_type": "code",
   "execution_count": null,
   "id": "f68296f9-55ef-419a-91be-785f233b4cb6",
   "metadata": {},
   "outputs": [],
   "source": []
  },
  {
   "cell_type": "code",
   "execution_count": null,
   "id": "e31b2260-708d-421a-a905-8eb3f5cb81c2",
   "metadata": {},
   "outputs": [],
   "source": []
  },
  {
   "cell_type": "code",
   "execution_count": null,
   "id": "ee85dc24-f418-4eea-ab54-25e2d60097f1",
   "metadata": {},
   "outputs": [],
   "source": []
  },
  {
   "cell_type": "code",
   "execution_count": null,
   "id": "b5572918-36a6-484b-a9b3-2003797a2f6f",
   "metadata": {},
   "outputs": [],
   "source": []
  },
  {
   "cell_type": "code",
   "execution_count": null,
   "id": "dc71fc26-31c8-4a2d-9133-e273de0c0036",
   "metadata": {},
   "outputs": [],
   "source": []
  },
  {
   "cell_type": "code",
   "execution_count": null,
   "id": "ca292005-92ab-4fe7-8022-79896ce5e4f1",
   "metadata": {},
   "outputs": [],
   "source": []
  },
  {
   "cell_type": "code",
   "execution_count": null,
   "id": "c678ce5e-e27c-44ba-bae3-63d984bbe1f1",
   "metadata": {},
   "outputs": [],
   "source": []
  },
  {
   "cell_type": "code",
   "execution_count": null,
   "id": "d7133907-5123-433d-82e5-e740302da8c5",
   "metadata": {},
   "outputs": [],
   "source": []
  },
  {
   "cell_type": "code",
   "execution_count": null,
   "id": "e8d5c960-e7ac-49e8-b63f-2d52a5065f15",
   "metadata": {},
   "outputs": [],
   "source": []
  },
  {
   "cell_type": "code",
   "execution_count": null,
   "id": "7bdd27e6-ebc6-4d1e-ad40-c3092c265290",
   "metadata": {},
   "outputs": [],
   "source": []
  },
  {
   "cell_type": "code",
   "execution_count": null,
   "id": "dee213b3-3b52-457e-a701-50003c455103",
   "metadata": {},
   "outputs": [],
   "source": []
  },
  {
   "cell_type": "code",
   "execution_count": null,
   "id": "39da5527-914d-41ba-ad96-2f954947e6cd",
   "metadata": {},
   "outputs": [],
   "source": []
  },
  {
   "cell_type": "code",
   "execution_count": null,
   "id": "3058e101-32eb-4c19-b326-f44b785bd4fd",
   "metadata": {},
   "outputs": [],
   "source": []
  },
  {
   "cell_type": "code",
   "execution_count": 19,
   "id": "c472ef10-480b-4681-810e-afd2cf561e8c",
   "metadata": {},
   "outputs": [
    {
     "data": {
      "text/plain": [
       "<matplotlib.legend.Legend at 0x7fdbd079ed30>"
      ]
     },
     "execution_count": 19,
     "metadata": {},
     "output_type": "execute_result"
    },
    {
     "data": {
      "image/png": "[encoded data removed]",
      "text/plain": [
       "<Figure size 1440x432 with 1 Axes>"
      ]
     },
     "metadata": {
      "needs_background": "light"
     },
     "output_type": "display_data"
    }
   ],
   "source": [
    "fig, ax = plt.subplots(figsize = (20, 6))\n",
    "\n",
    "hydro_out2 = hydro_out2[:2000]\n",
    "gl = hydro_out2.glacier_melt * -1\n",
    "\n",
    "hydro_out2.snow_melt.plot(label='snow melt')\n",
    "hydro_out2.glacier_melt.plot(label='glacier melt')\n",
    "\n",
    "hydro_out2.snowacc.plot(label='snowacc')\n",
    "\n",
    "\n",
    "plt.legend()\n",
    "plt.legend(fontsize = 20)\n"
   ]
  },
  {
   "cell_type": "code",
   "execution_count": null,
   "id": "f620d58d-c49f-4cae-9f25-f6f300bb2ed5",
   "metadata": {},
   "outputs": [],
   "source": [
    "# "
   ]
  },
  {
   "cell_type": "code",
   "execution_count": 14,
   "id": "9aa3990d-260a-4ba3-bf5c-61d154767b09",
   "metadata": {
    "scrolled": true,
    "tags": []
   },
   "outputs": [],
   "source": [
    "df = hydro_out2\n",
    "# df['snow_melt'] = np.where(df['sacc'] < 0, df['sacc']* -1, 0)\n",
    "df = df.set_index('D')\n"
   ]
  },
  {
   "cell_type": "code",
   "execution_count": 15,
   "id": "683cdcec-78e0-41b3-b2ec-6f9dcdf88aaa",
   "metadata": {},
   "outputs": [
    {
     "data": {
      "text/plain": [
       "<matplotlib.legend.Legend at 0x7fdbd0f89250>"
      ]
     },
     "execution_count": 15,
     "metadata": {},
     "output_type": "execute_result"
    },
    {
     "data": {
      "image/png": "[encoded data removed]",
      "text/plain": [
       "<Figure size 1440x432 with 1 Axes>"
      ]
     },
     "metadata": {
      "needs_background": "light"
     },
     "output_type": "display_data"
    }
   ],
   "source": [
    "fig, ax = plt.subplots(figsize=(20, 6))\n",
    "\n",
    "df2 = df[:5000]\n",
    "\n",
    "df2.snow_melt.plot(label = 'snow melt', alpha = 0.7)\n",
    "df2.glacier_melt.plot(label = 'glacier melt', alpha = 0.7)\n",
    "df2.snowacc.plot(label = 'snowacc', alpha = 0.7)\n",
    "\n",
    "plt.legend(fontsize = 20)\n",
    "# plt.savefig('melt_subset_first10kvalues.png')"
   ]
  },
  {
   "cell_type": "code",
   "execution_count": null,
   "id": "ba6feb4d-ec69-482e-a557-4dee7ca5a027",
   "metadata": {},
   "outputs": [],
   "source": []
  }
 ],
 "metadata": {
  "kernelspec": {
   "display_name": "Python [conda env:sedcas] *",
   "language": "python",
   "name": "conda-env-sedcas-py"
  },
  "language_info": {
   "codemirror_mode": {
    "name": "ipython",
    "version": 3
   },
   "file_extension": ".py",
   "mimetype": "text/x-python",
   "name": "python",
   "nbconvert_exporter": "python",
   "pygments_lexer": "ipython3",
   "version": "3.9.7"
  }
 },
 "nbformat": 4,
 "nbformat_minor": 5
}
