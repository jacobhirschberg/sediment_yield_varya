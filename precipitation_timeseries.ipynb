{
 "cells": [
  {
   "cell_type": "markdown",
   "id": "b5721a75-3aa7-415a-935f-3097c2d817ae",
   "metadata": {},
   "source": [
    "## code to convert precipitation into normal hourly values (NB units!)"
   ]
  },
  {
   "cell_type": "code",
   "execution_count": 1,
   "id": "81eaad09-3789-456c-9140-01d6f1e6533a",
   "metadata": {},
   "outputs": [],
   "source": [
    "# packages\n",
    "import pandas as pd\n",
    "import xarray as xr\n",
    "import matplotlib.pyplot as plt\n",
    "import numpy as np\n",
    "\n",
    "import glob\n"
   ]
  },
  {
   "cell_type": "code",
   "execution_count": null,
   "id": "888a4429-679b-435a-983b-cd4eebd68bc3",
   "metadata": {},
   "outputs": [],
   "source": [
    "# read the data \n",
    "\n",
    "path = '/Volumes/Data/Share/plaza/4varya/precip/'\n",
    "file = xr.open_dataset(path + 'total_precip_2020-22.nc')"
   ]
  },
  {
   "cell_type": "code",
   "execution_count": null,
   "id": "977659cf-6912-46de-93b4-424a3a2d0291",
   "metadata": {},
   "outputs": [],
   "source": []
  },
  {
   "cell_type": "code",
   "execution_count": null,
   "id": "1ed0f631-5dba-4a91-a7b7-e0a0793d4b7f",
   "metadata": {},
   "outputs": [],
   "source": [
    "''' these are not nesesary, i did that to speed up the calcultions'''\n",
    "# select location\n",
    "gridcell = file.sel(latitude=55, longitude=55, method='nearest')\n",
    "\n",
    "# gridcell = file \n",
    "\n",
    "# select time\n",
    "start_date = '2020-06-01T00:00:00.000000000'\n",
    "end_date = '2020-06-06T00:00:00.000000000'\n",
    "cut = gridcell.sel(time=slice(start_date, end_date))\n"
   ]
  },
  {
   "cell_type": "code",
   "execution_count": null,
   "id": "f2d4a825-3b67-4e06-80f8-5664933b7d84",
   "metadata": {},
   "outputs": [],
   "source": [
    "# look at the data:\n",
    "# convert to dataframe for convenience \n",
    "cutdf = cut.to_dataframe()\n",
    "\n",
    "# look at the dataframe\n",
    "cutdf.head()"
   ]
  },
  {
   "cell_type": "code",
   "execution_count": null,
   "id": "a359e402-1464-45e8-b6f5-36f6e517477b",
   "metadata": {},
   "outputs": [],
   "source": [
    "# # look at the data: plot\n",
    "# # plt.figure(figsize=(12, 6))\n",
    "# cut['tp'].plot(x = 'time')#.line(x='time', marker='o')\n",
    "# plt.grid(True)\n"
   ]
  },
  {
   "cell_type": "code",
   "execution_count": null,
   "id": "171481ae-8249-4324-ad5b-7c1355740f14",
   "metadata": {},
   "outputs": [],
   "source": [
    "''' you see that the precip accumulates and then resets in the end of each day, but what time does that happen - the max is in midnight'''\n",
    "\n",
    "print('max precip time:', cutdf.tp.idxmax())\n"
   ]
  },
  {
   "cell_type": "code",
   "execution_count": null,
   "id": "75bfa0d4-cdfd-48cd-a518-1ff79e822888",
   "metadata": {},
   "outputs": [],
   "source": [
    "''' we have to shift the precipitation one \"step\" back, so that max value occurs at 23:00, so that it is the same day '''\n",
    "\n",
    "shifted = cut.shift(time= -1, fill_value=0)"
   ]
  },
  {
   "cell_type": "code",
   "execution_count": null,
   "id": "a9ee6ca7-4d33-4e7f-8558-e1833ca74d8e",
   "metadata": {},
   "outputs": [],
   "source": [
    "''' calculate the differences per hour within each day using shifted data ''' \n",
    "\n",
    "# Create a sample xarray dataset for a year of data\n",
    "# data = shifted\n",
    "\n",
    "# Function to calculate hourly differences with reset at midnight\n",
    "def calculate_hourly_diff(arr):\n",
    "    diff = np.diff(arr, prepend=0)\n",
    "    return xr.DataArray(diff, coords=arr.coords)\n",
    "\n",
    "# Calculate hourly differences with reset at midnight for the entire time series\n",
    "hourly_values = shifted.tp.groupby('time.dayofyear').apply(calculate_hourly_diff)\n",
    "\n",
    "# Create a new dataset with the hourly differences\n",
    "hourly_data = xr.Dataset({'hourly_values': hourly_values})\n"
   ]
  },
  {
   "cell_type": "code",
   "execution_count": null,
   "id": "4efd0980-ad40-4e55-ab39-017eaab95304",
   "metadata": {},
   "outputs": [],
   "source": [
    "# a = hourly_data.isel(time = 1).hourly_values.plot()\n"
   ]
  },
  {
   "cell_type": "code",
   "execution_count": null,
   "id": "700ef937-7836-4b34-be14-7938f6fba8c1",
   "metadata": {},
   "outputs": [],
   "source": [
    "''' plot to see if its correct '''\n",
    "plt.figure(figsize=(20, 6))\n",
    "shifted['tp'].plot.line(x='time', marker='o', color ='lightblue', label ='original')\n",
    "hourly_data['hourly_values'].plot.line(x='time', marker='o', color ='orange', label = 'hourly')\n",
    "\n",
    "plt.grid()\n",
    "plt.legend()"
   ]
  },
  {
   "cell_type": "code",
   "execution_count": null,
   "id": "cd7afb89-1b36-48b2-89bf-c602dc7f1b24",
   "metadata": {},
   "outputs": [],
   "source": [
    "''' calculate the sum within day in a shifted data, compare with the max within the same day in the original data '''\n",
    "\n",
    "# slice data - take a day  \n",
    "start_date = '2020-01-01T00:00:00.000000000'\n",
    "end_date = '2020-01-01T23:00:00.000000000'\n",
    "\n",
    "# Slice the dataset for a day \n",
    "cut_sh = shifted.sel(time=slice(start_date, end_date))\n",
    "cut_hourl = hourly_data.sel(time=slice(start_date, end_date))\n",
    "\n",
    "print('new hourly data - daily sum:', round(cut_hourl.hourly_values.values.sum(), 6))\n",
    "print('original data - daily max (cumulative sum):', round(cut_sh.tp.values.max(), 6))\n",
    "\n",
    "''' correct! '''"
   ]
  },
  {
   "cell_type": "code",
   "execution_count": null,
   "id": "e1245a07-c589-4b3f-a76a-a2ce73d07348",
   "metadata": {},
   "outputs": [],
   "source": [
    "''' since we shifted data, the last data point doesnt make sense anymore - cut it out''' \n",
    "hourly_data = hourly_data.isel(time=slice(None, -1))\n",
    "\n",
    "\n",
    "# hourly_diff_data - is the final dataset!! "
   ]
  },
  {
   "cell_type": "markdown",
   "id": "5be8cf8a-7bc2-4862-ad99-fefea3634e7f",
   "metadata": {},
   "source": [
    "## same but for csv\n"
   ]
  },
  {
   "cell_type": "code",
   "execution_count": null,
   "id": "4f1afbe4-53e3-48d6-b72d-e13b100a3d4e",
   "metadata": {},
   "outputs": [],
   "source": [
    "# read csv \n",
    "\n",
    "\n"
   ]
  },
  {
   "cell_type": "code",
   "execution_count": null,
   "id": "a0071c4d-68ee-4692-9053-452019cdccef",
   "metadata": {},
   "outputs": [],
   "source": []
  },
  {
   "cell_type": "code",
   "execution_count": null,
   "id": "eb3188ea-8811-46cb-81ce-6255b3df36fa",
   "metadata": {},
   "outputs": [],
   "source": []
  },
  {
   "cell_type": "code",
   "execution_count": null,
   "id": "f8ec9250-032b-4aaf-af82-f3545f507142",
   "metadata": {},
   "outputs": [],
   "source": []
  },
  {
   "cell_type": "code",
   "execution_count": null,
   "id": "46670c35-5da5-4dc7-b39b-51117a34a51a",
   "metadata": {},
   "outputs": [],
   "source": []
  },
  {
   "cell_type": "code",
   "execution_count": null,
   "id": "512a508a-1d59-41c6-82ee-78d6535823c8",
   "metadata": {},
   "outputs": [],
   "source": []
  },
  {
   "cell_type": "markdown",
   "id": "20b838c8-02f0-4496-a428-8188097130d1",
   "metadata": {},
   "source": [
    "# new stuff! \n"
   ]
  },
  {
   "cell_type": "code",
   "execution_count": 14,
   "id": "4c6db05b-fac3-41c1-b4c2-582abb914e0f",
   "metadata": {},
   "outputs": [],
   "source": [
    "# read all data\n",
    "\n",
    "directory = '/Users/varyabazilova/Desktop/uu/0_teaching/Msc_students/Leon/testera5land/ncfiles/'\n",
    "files = glob.glob(directory + '*.nc')\n",
    "\n",
    "# Use xarray.open_mfdataset to open and concatenate the .nc files\n",
    "data = xr.open_mfdataset(files)\n",
    "# data['tp'] = data.tp * 1000\n",
    "data = data.sortby('time')\n",
    "\n",
    "data = data.shift(time= -1, fill_value=0).sortby('time')\n"
   ]
  },
  {
   "cell_type": "code",
   "execution_count": null,
   "id": "af0bdac4-d95e-4445-af12-bd903b1cf0ec",
   "metadata": {},
   "outputs": [],
   "source": []
  },
  {
   "cell_type": "code",
   "execution_count": 15,
   "id": "38df155f-81dd-44f1-95fa-927e90694742",
   "metadata": {},
   "outputs": [],
   "source": [
    "# Calculate the hourly differences within each day\n",
    "def calculate_hourly_diff(arr):\n",
    "    diff = arr - arr.shift(time=1, fill_value=0)\n",
    "    return xr.DataArray(diff, coords=arr.coords)"
   ]
  },
  {
   "cell_type": "code",
   "execution_count": 16,
   "id": "d27b3bd1-7936-4311-aad1-c914789edf53",
   "metadata": {},
   "outputs": [],
   "source": [
    "hourly_values = data.tp.groupby('time.dayofyear').apply(calculate_hourly_diff)\n",
    "hourly_data = xr.Dataset({'hourly_values': hourly_values})\n"
   ]
  },
  {
   "cell_type": "markdown",
   "id": "0ef1fc51-90df-4307-84fd-687a618a4724",
   "metadata": {},
   "source": [
    "## check "
   ]
  },
  {
   "cell_type": "code",
   "execution_count": 17,
   "id": "9cb8fec5-0807-4839-a3c3-95409d08dee1",
   "metadata": {},
   "outputs": [],
   "source": [
    "''' calculate the sum within day in a shifted data, compare with the max within the same day in the original data '''\n",
    "# slice coordinates\n",
    "data = data.sel(latitude=29.0, longitude=84.0, method='nearest')\n",
    "hourly_data = hourly_data.sel(latitude=29, longitude=84, method='nearest')\n"
   ]
  },
  {
   "cell_type": "code",
   "execution_count": 18,
   "id": "b3ab3a51-0520-4f79-a9ec-ea1ea949eeea",
   "metadata": {},
   "outputs": [
    {
     "name": "stdout",
     "output_type": "stream",
     "text": [
      "new hourly data - daily sum: 0.000613\n",
      "original data - daily max (cumulative sum): 0.000613\n"
     ]
    }
   ],
   "source": [
    "# slice data - take a day  \n",
    "start_date = '2020-01-01T00:00:00.000000000'\n",
    "end_date = '2020-01-01T23:00:00.000000000'\n",
    "\n",
    "# Slice the dataset for a day \n",
    "cut_sh = data.sel(time=slice(start_date, end_date))\n",
    "cut_hourl = hourly_data.sel(time=slice(start_date, end_date))\n",
    "\n",
    "print('new hourly data - daily sum:', round(cut_hourl.hourly_values.values.sum(), 6))\n",
    "print('original data - daily max (cumulative sum):', round(cut_sh.tp.values.max(), 6))\n",
    "\n",
    "# ''' correct! '''"
   ]
  },
  {
   "cell_type": "code",
   "execution_count": null,
   "id": "dcea9245-1dbf-4d44-a12e-2ec273f79b70",
   "metadata": {},
   "outputs": [],
   "source": []
  },
  {
   "cell_type": "code",
   "execution_count": null,
   "id": "3febea2d-5288-4ce3-a363-ccad357d00b5",
   "metadata": {},
   "outputs": [],
   "source": []
  }
 ],
 "metadata": {
  "kernelspec": {
   "display_name": "Python [conda env:project1] *",
   "language": "python",
   "name": "conda-env-project1-py"
  },
  "language_info": {
   "codemirror_mode": {
    "name": "ipython",
    "version": 3
   },
   "file_extension": ".py",
   "mimetype": "text/x-python",
   "name": "python",
   "nbconvert_exporter": "python",
   "pygments_lexer": "ipython3",
   "version": "3.7.11"
  }
 },
 "nbformat": 4,
 "nbformat_minor": 5
}
