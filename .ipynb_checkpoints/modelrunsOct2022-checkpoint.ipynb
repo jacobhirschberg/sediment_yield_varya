{
 "cells": [
  {
   "cell_type": "code",
   "execution_count": 14,
   "id": "7e6ba13f-9187-4707-b07a-d1847df475ab",
   "metadata": {},
   "outputs": [],
   "source": [
    "import pandas as pd\n",
    "import matplotlib.pyplot as plt\n",
    "\n",
    "from SedCas import SedCas\n",
    "\n",
    "import os \n",
    "\n",
    "%matplotlib inline"
   ]
  },
  {
   "cell_type": "markdown",
   "id": "8b17e694-45eb-43d9-87d9-53d23341ec0c",
   "metadata": {},
   "source": [
    "## model run itself "
   ]
  },
  {
   "cell_type": "code",
   "execution_count": 15,
   "id": "afb7247f-1c48-4861-b3b5-41a2f23f3d19",
   "metadata": {},
   "outputs": [
    {
     "data": {
      "text/plain": [
       "'\\nCreated on Thu Feb  3 16:56:57 2022\\n\\n@author: hirschbe\\n'"
      ]
     },
     "execution_count": 15,
     "metadata": {},
     "output_type": "execute_result"
    }
   ],
   "source": [
    "\"\"\"\n",
    "Created on Thu Feb  3 16:56:57 2022\n",
    "\n",
    "@author: hirschbe\n",
    "\"\"\"\n",
    "\n",
    "# from SedCas import SedCas\n",
    "# \n",
    "# model = SedCas()\n",
    "# model.load_climate()\n",
    "# model.load_params()\n",
    "# model.run_hydro()\n",
    "# model.run_sediment()\n",
    "# model.save_output()\n",
    "# model.plot_sedyield_monthly()\n",
    "\n",
    "# Qstl = potential sediment catchment output [mm], i.e. transport-limited case"
   ]
  },
  {
   "cell_type": "markdown",
   "id": "bf622fba-3782-4ea7-9fd8-d621f38e16f9",
   "metadata": {},
   "source": [
    "## data from \"looped\" runs, plot monthly sediment yeld transporten in a form of DF "
   ]
  },
  {
   "cell_type": "code",
   "execution_count": 16,
   "id": "595f7ec7-e3b9-49b3-86e3-1a555fd82633",
   "metadata": {},
   "outputs": [],
   "source": [
    "# data\n",
    "westhimal = pd.read_csv('timeseries/1_Western_Himalaya/Sediment.out', index_col = 0)\n"
   ]
  },
  {
   "cell_type": "code",
   "execution_count": 18,
   "id": "0ec96709-a2cb-494c-94c2-5066187e1043",
   "metadata": {},
   "outputs": [],
   "source": [
    "# \n",
    "## change unite: \n",
    "sediments = westhimal\n",
    "\n",
    "# get area from parameters files: \n",
    "area = 4.83\n",
    "cf = (area*10**6) * 10**-3   # km2 to m2 and mm to m\n",
    "\n",
    "# qstl_area = pd.DataFrame(data = sedimentout.Qstl*cf, index=pd.to_datetime(sedimentout.index))\n",
    "sediments_area = pd.DataFrame()\n",
    "sediments_area['Qstl']  = sediments.Qstl *cf\n",
    "sediments_area['Qdftl'] = sediments.Qdftl*cf\n",
    "\n",
    "# qstl_area.set_index('D')\n",
    "sediments_area.index = pd.to_datetime(sediments_area.index)\n",
    "\n",
    "\n",
    "# monthly sediment yeild\n",
    "sym = sediments_area.resample('m').sum()                         # sediment yeld month \n",
    "symm_westernhimal = sym.groupby(by=sym.index.month).mean()  # sediment yeld month mean \n",
    "\n",
    "symm_westernhimal = symm_westernhimal.reset_index()"
   ]
  },
  {
   "cell_type": "code",
   "execution_count": 19,
   "id": "2076411f-802b-4779-8661-6a91872d34d3",
   "metadata": {},
   "outputs": [],
   "source": [
    "df = symm_westernhimal"
   ]
  },
  {
   "cell_type": "code",
   "execution_count": 12,
   "id": "0754fb94-bf11-46fb-87ed-9634e34febd2",
   "metadata": {},
   "outputs": [
    {
     "data": {
      "image/png": "[encoded data removed]",
      "text/plain": [
       "<Figure size 720x360 with 1 Axes>"
      ]
     },
     "metadata": {
      "needs_background": "light"
     },
     "output_type": "display_data"
    }
   ],
   "source": [
    "## figure to count all lakes\n",
    "\n",
    "fig, ax = plt.subplots(figsize=(10, 5))\n",
    "\n",
    "width = 0.2\n",
    "ax.bar(x=df.D+0.1, height=df.Qdftl, width=width, label='only DF sediments',  alpha=0.7, color='chartreuse')\n",
    "ax.bar(x=df.D-0.1,     height=df.Qstl, width=width,label='all sediments' , alpha=0.7, color= 'dodgerblue')\n",
    "\n",
    "ax.set_xticks(df.D)\n",
    "ax.set_xticklabels(df.D, fontsize=15)#rotation=45)\n",
    "ax.legend(fontsize=15, )\n",
    "ax.set_ylabel('sediment yield m**3', fontsize=15)\n",
    "fig.tight_layout()\n",
    "\n",
    "# fig.savefig('sed_yeld_3regions.pdf', bbox_inches='tight')"
   ]
  },
  {
   "cell_type": "markdown",
   "id": "3482b43a-d60d-43bb-9ee0-cf9f1a6eef30",
   "metadata": {},
   "source": [
    "## magnitude frequency "
   ]
  },
  {
   "cell_type": "code",
   "execution_count": 22,
   "id": "ad49c6ec-b2fe-47bb-b442-07dddcddcddb",
   "metadata": {},
   "outputs": [
    {
     "data": {
      "text/html": [
       "<div>\n",
       "<style scoped>\n",
       "    .dataframe tbody tr th:only-of-type {\n",
       "        vertical-align: middle;\n",
       "    }\n",
       "\n",
       "    .dataframe tbody tr th {\n",
       "        vertical-align: top;\n",
       "    }\n",
       "\n",
       "    .dataframe thead th {\n",
       "        text-align: right;\n",
       "    }\n",
       "</style>\n",
       "<table border=\"1\" class=\"dataframe\">\n",
       "  <thead>\n",
       "    <tr style=\"text-align: right;\">\n",
       "      <th></th>\n",
       "      <th>Qstl</th>\n",
       "      <th>Qdftl</th>\n",
       "    </tr>\n",
       "    <tr>\n",
       "      <th>D</th>\n",
       "      <th></th>\n",
       "      <th></th>\n",
       "    </tr>\n",
       "  </thead>\n",
       "  <tbody>\n",
       "    <tr>\n",
       "      <th>1980-01-01 00:00:00</th>\n",
       "      <td>0.000000</td>\n",
       "      <td>0.0</td>\n",
       "    </tr>\n",
       "    <tr>\n",
       "      <th>1980-01-01 01:00:00</th>\n",
       "      <td>0.000000</td>\n",
       "      <td>0.0</td>\n",
       "    </tr>\n",
       "    <tr>\n",
       "      <th>1980-01-01 02:00:00</th>\n",
       "      <td>1107.737730</td>\n",
       "      <td>0.0</td>\n",
       "    </tr>\n",
       "    <tr>\n",
       "      <th>1980-01-01 03:00:00</th>\n",
       "      <td>1821.591262</td>\n",
       "      <td>0.0</td>\n",
       "    </tr>\n",
       "    <tr>\n",
       "      <th>1980-01-01 04:00:00</th>\n",
       "      <td>1756.875825</td>\n",
       "      <td>0.0</td>\n",
       "    </tr>\n",
       "  </tbody>\n",
       "</table>\n",
       "</div>"
      ],
      "text/plain": [
       "                            Qstl  Qdftl\n",
       "D                                      \n",
       "1980-01-01 00:00:00     0.000000    0.0\n",
       "1980-01-01 01:00:00     0.000000    0.0\n",
       "1980-01-01 02:00:00  1107.737730    0.0\n",
       "1980-01-01 03:00:00  1821.591262    0.0\n",
       "1980-01-01 04:00:00  1756.875825    0.0"
      ]
     },
     "execution_count": 22,
     "metadata": {},
     "output_type": "execute_result"
    }
   ],
   "source": [
    "sediments_area.head()"
   ]
  },
  {
   "cell_type": "markdown",
   "id": "35f038a1-6555-4755-b96d-2b6b7b77827a",
   "metadata": {},
   "source": [
    "# plots: "
   ]
  },
  {
   "cell_type": "code",
   "execution_count": 37,
   "id": "db1bba98-8f1d-4f18-acfb-bc02b743e0db",
   "metadata": {},
   "outputs": [
    {
     "data": {
      "text/plain": [
       "(array([3.41821e+05, 2.40000e+01, 1.90000e+01, 8.00000e+00, 3.00000e+00,\n",
       "        1.00000e+00, 4.00000e+00, 0.00000e+00, 0.00000e+00, 1.00000e+00]),\n",
       " array([      0.        ,  122634.96987439,  245269.93974878,\n",
       "         367904.90962317,  490539.87949756,  613174.84937194,\n",
       "         735809.81924633,  858444.78912072,  981079.75899511,\n",
       "        1103714.7288695 , 1226349.69874389]),\n",
       " <BarContainer object of 10 artists>)"
      ]
     },
     "execution_count": 37,
     "metadata": {},
     "output_type": "execute_result"
    },
    {
     "data": {
      "image/png": "[encoded data removed]",
      "text/plain": [
       "<Figure size 432x288 with 1 Axes>"
      ]
     },
     "metadata": {
      "needs_background": "light"
     },
     "output_type": "display_data"
    }
   ],
   "source": [
    "total = sediments_area.Qstl\n",
    "dfs = sediments_area.Qdftl\n",
    "\n",
    "plt.hist(dfs, bins = 10)"
   ]
  },
  {
   "cell_type": "code",
   "execution_count": 48,
   "id": "dcd9d434-79de-4e43-b357-93b6bf0f02ad",
   "metadata": {},
   "outputs": [
    {
     "data": {
      "image/png": "[encoded data removed]",
      "text/plain": [
       "<Figure size 576x288 with 1 Axes>"
      ]
     },
     "metadata": {
      "needs_background": "light"
     },
     "output_type": "display_data"
    }
   ],
   "source": [
    "# plot the cumulative histogram\n",
    "\n",
    "fig, ax = plt.subplots(figsize=(8, 4))\n",
    "n_bins = 1000\n",
    "n, bins, patches = ax.hist(dfs, n_bins, density=True, histtype='step',\n",
    "                           cumulative=True, label='Empirical')"
   ]
  },
  {
   "cell_type": "code",
   "execution_count": 55,
   "id": "db2a27e9-c17e-4ac3-89eb-104b5c2ee976",
   "metadata": {},
   "outputs": [
    {
     "data": {
      "text/plain": [
       "<matplotlib.legend.Legend at 0x7f8aa0c863a0>"
      ]
     },
     "execution_count": 55,
     "metadata": {},
     "output_type": "execute_result"
    },
    {
     "data": {
      "image/png": "[encoded data removed]",
      "text/plain": [
       "<Figure size 576x288 with 1 Axes>"
      ]
     },
     "metadata": {
      "needs_background": "light"
     },
     "output_type": "display_data"
    }
   ],
   "source": [
    "\n",
    "fig, ax = plt.subplots(figsize=(8, 4))\n",
    "sediments_area.Qdftl.plot(label = 'Qdftl')\n",
    "sediments_area.Qstl.plot(label = 'Qstl')\n",
    "\n",
    "plt.legend()"
   ]
  },
  {
   "cell_type": "markdown",
   "id": "bdd9e99d-7a48-4d18-924c-665e84eec0c1",
   "metadata": {},
   "source": [
    "## magnitude frequency "
   ]
  },
  {
   "cell_type": "code",
   "execution_count": null,
   "id": "6ea7ddef-3db4-41f8-951e-834260ec47b2",
   "metadata": {},
   "outputs": [],
   "source": []
  }
 ],
 "metadata": {
  "kernelspec": {
   "display_name": "Python [conda env:sedcas] *",
   "language": "python",
   "name": "conda-env-sedcas-py"
  },
  "language_info": {
   "codemirror_mode": {
    "name": "ipython",
    "version": 3
   },
   "file_extension": ".py",
   "mimetype": "text/x-python",
   "name": "python",
   "nbconvert_exporter": "python",
   "pygments_lexer": "ipython3",
   "version": "3.9.7"
  }
 },
 "nbformat": 4,
 "nbformat_minor": 5
}
