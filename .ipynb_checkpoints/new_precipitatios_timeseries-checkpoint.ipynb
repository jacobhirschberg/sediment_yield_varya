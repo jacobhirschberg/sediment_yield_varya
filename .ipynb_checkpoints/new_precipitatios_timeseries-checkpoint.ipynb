{
 "cells": [
  {
   "cell_type": "markdown",
   "id": "95389c50-a7c8-42e5-8b70-18a2c7cde68f",
   "metadata": {},
   "source": [
    "### this code: \n",
    "\n",
    "- opens all .nc files in the directory and merges them together \n",
    "- takes the difference within every day to make precipitation era5 land actually hourly \n",
    "- takes a slice of 1 day on the *new* and *original* data to see if its correct"
   ]
  },
  {
   "cell_type": "code",
   "execution_count": 1,
   "id": "60fbe691-3937-44ab-bb09-fe18c0deb0c6",
   "metadata": {},
   "outputs": [],
   "source": [
    "import pandas as pd\n",
    "import xarray as xr\n",
    "import matplotlib.pyplot as plt\n",
    "import numpy as np\n",
    "\n",
    "import glob\n"
   ]
  },
  {
   "cell_type": "code",
   "execution_count": 2,
   "id": "603231ac-db8e-4fd4-9d66-670e81cc5ea5",
   "metadata": {},
   "outputs": [],
   "source": [
    "# read all data\n",
    "\n",
    "directory = '/Users/varyabazilova/Desktop/uu/0_teaching/Msc_students/Leon/testera5land/ncfiles/'\n",
    "files = glob.glob(directory + '*.nc')\n",
    "\n",
    "# Use xarray.open_mfdataset to open and concatenate the .nc files\n",
    "data = xr.open_mfdataset(files)\n",
    "data = data.sortby('time')\n",
    "# data['tp'] = data.tp * 1000 # check units\n",
    "\n",
    "# shift 1 time step back \n",
    "data = data.shift(time= -1, fill_value=0).sortby('time')\n"
   ]
  },
  {
   "cell_type": "code",
   "execution_count": 3,
   "id": "13aabe47-f1e9-4413-8d3c-889d8be69398",
   "metadata": {},
   "outputs": [],
   "source": [
    "# define function \n",
    "def calculate_hourly_diff(arr):\n",
    "    diff = arr - arr.shift(time=1, fill_value=0)\n",
    "    return xr.DataArray(diff, coords=arr.coords)\n",
    "\n",
    "# apply function\n",
    "hourly_values = data.tp.groupby('time.dayofyear').apply(calculate_hourly_diff)\n",
    "hourly_data = xr.Dataset({'hourly_values': hourly_values})\n"
   ]
  },
  {
   "cell_type": "markdown",
   "id": "be3575a1-8f20-424f-9b6f-b306835431a3",
   "metadata": {},
   "source": [
    "### check\n"
   ]
  },
  {
   "cell_type": "code",
   "execution_count": 4,
   "id": "3c3c484a-2f52-4266-ac64-9443b5e399ba",
   "metadata": {},
   "outputs": [],
   "source": [
    "''' calculate the sum within day in a shifted data, compare with the max within the same day in the original data '''\n",
    "# slice coordinates\n",
    "data = data.sel(latitude=29.0, longitude=84.0, method='nearest')\n",
    "hourly_data = hourly_data.sel(latitude=29, longitude=84, method='nearest')\n"
   ]
  },
  {
   "cell_type": "code",
   "execution_count": 6,
   "id": "a5ff65c0-b351-47e8-97ee-a533ac5f4bcd",
   "metadata": {},
   "outputs": [
    {
     "name": "stdout",
     "output_type": "stream",
     "text": [
      "new hourly data - daily sum: 0.002377\n",
      "original data - daily max (cumulative sum): 0.002377\n"
     ]
    }
   ],
   "source": [
    "# slice data - take a day  \n",
    "start_date = '2020-06-01T00:00:00.000000000'\n",
    "end_date = '2020-06-01T23:00:00.000000000'\n",
    "\n",
    "# Slice the dataset for a day \n",
    "cut_sh = data.sel(time=slice(start_date, end_date))\n",
    "cut_hourl = hourly_data.sel(time=slice(start_date, end_date))\n",
    "\n",
    "print('new hourly data - daily sum:', round(cut_hourl.hourly_values.values.sum(), 6))\n",
    "print('original data - daily max (cumulative sum):', round(cut_sh.tp.values.max(), 6))\n",
    "\n"
   ]
  },
  {
   "cell_type": "code",
   "execution_count": null,
   "id": "314694a6-104c-4b9d-9161-eb4b2eee57b3",
   "metadata": {},
   "outputs": [],
   "source": []
  }
 ],
 "metadata": {
  "kernelspec": {
   "display_name": "Python [conda env:project1] *",
   "language": "python",
   "name": "conda-env-project1-py"
  },
  "language_info": {
   "codemirror_mode": {
    "name": "ipython",
    "version": 3
   },
   "file_extension": ".py",
   "mimetype": "text/x-python",
   "name": "python",
   "nbconvert_exporter": "python",
   "pygments_lexer": "ipython3",
   "version": "3.7.11"
  }
 },
 "nbformat": 4,
 "nbformat_minor": 5
}
