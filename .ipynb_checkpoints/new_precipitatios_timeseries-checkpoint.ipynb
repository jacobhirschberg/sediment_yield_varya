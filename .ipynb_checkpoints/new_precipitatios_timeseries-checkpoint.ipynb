{
 "cells": [
  {
   "cell_type": "markdown",
   "id": "95389c50-a7c8-42e5-8b70-18a2c7cde68f",
   "metadata": {},
   "source": [
    "### this code: \n",
    "\n",
    "- opens all .nc files in the directory and merges them together \n",
    "- takes the difference within every day to make precipitation era5 land actually hourly \n",
    "- takes a slice of 1 day on the *new* and *original* data to see if its correct"
   ]
  },
  {
   "cell_type": "code",
   "execution_count": null,
   "id": "60fbe691-3937-44ab-bb09-fe18c0deb0c6",
   "metadata": {},
   "outputs": [],
   "source": [
    "import pandas as pd\n",
    "import xarray as xr\n",
    "import matplotlib.pyplot as plt\n",
    "import numpy as np\n",
    "\n",
    "import glob\n"
   ]
  },
  {
   "cell_type": "code",
   "execution_count": null,
   "id": "603231ac-db8e-4fd4-9d66-670e81cc5ea5",
   "metadata": {},
   "outputs": [],
   "source": [
    "# read all data\n",
    "\n",
    "directory = '/Users/varyabazilova/Desktop/uu/0_teaching/Msc_students/Leon/testera5land/ncfiles/'\n",
    "files = glob.glob(directory + '*.nc')\n",
    "\n",
    "# Use xarray.open_mfdataset to open and concatenate the .nc files\n",
    "data = xr.open_mfdataset(files)\n",
    "data = data.sortby('time')\n",
    "data['tp'] = data.tp * 1000 # check units\n",
    "\n",
    "# shift 1 time step back \n",
    "# data = data.shift(time= -1, fill_value=0).sortby('time')\n"
   ]
  },
  {
   "cell_type": "code",
   "execution_count": null,
   "id": "13aabe47-f1e9-4413-8d3c-889d8be69398",
   "metadata": {},
   "outputs": [],
   "source": [
    "# define function \n",
    "def calculate_hourly_diff(arr):\n",
    "    diff = arr - arr.shift(time=1, fill_value=0)\n",
    "    return xr.DataArray(diff, coords=arr.coords)\n",
    "\n",
    "# apply function\n",
    "hourly_values = data.tp.groupby('time.dayofyear').apply(calculate_hourly_diff)\n",
    "hourly_data = xr.Dataset({'hourly_values': hourly_values})\n"
   ]
  },
  {
   "cell_type": "markdown",
   "id": "be3575a1-8f20-424f-9b6f-b306835431a3",
   "metadata": {},
   "source": [
    "### check\n"
   ]
  },
  {
   "cell_type": "code",
   "execution_count": null,
   "id": "3c3c484a-2f52-4266-ac64-9443b5e399ba",
   "metadata": {},
   "outputs": [],
   "source": [
    "''' calculate the sum within day in a shifted data, compare with the max within the same day in the original data '''\n",
    "# slice coordinates\n",
    "data = data.sel(latitude=29.0, longitude=84.0, method='nearest')\n",
    "hourly_data = hourly_data.sel(latitude=29, longitude=84, method='nearest')\n"
   ]
  },
  {
   "cell_type": "code",
   "execution_count": null,
   "id": "a5ff65c0-b351-47e8-97ee-a533ac5f4bcd",
   "metadata": {},
   "outputs": [],
   "source": [
    "# slice data - take a day  \n",
    "start_date = '2020-12-30T00:00:00.000000000'\n",
    "end_date   = '2021-01-04T23:00:00.000000000'\n",
    "\n",
    "# Slice the dataset for a day \n",
    "cut_sh = data.sel(time=slice(start_date, end_date))\n",
    "cut_hourl = hourly_data.sel(time=slice(start_date, end_date))\n",
    "\n",
    "print('new hourly data - daily sum:', round(cut_hourl.hourly_values.values.sum(), 6))\n",
    "print('original data - daily max (cumulative sum):', round(cut_sh.tp.values.max(), 6))\n"
   ]
  },
  {
   "cell_type": "code",
   "execution_count": null,
   "id": "314694a6-104c-4b9d-9161-eb4b2eee57b3",
   "metadata": {},
   "outputs": [],
   "source": [
    "''' plot to see if its correct '''\n",
    "plt.figure(figsize=(20, 6))\n",
    "cut_sh['tp'].plot.line(x='time', marker='.', color ='lightblue', label ='original')\n",
    "cut_hourl['hourly_values'].plot.line(x='time', marker='.', color ='orange', label = 'hourly')\n",
    "\n",
    "plt.grid()\n",
    "plt.legend()\n"
   ]
  },
  {
   "cell_type": "code",
   "execution_count": null,
   "id": "6fc82be3-d0b4-43fa-ada1-a0149fe650ca",
   "metadata": {},
   "outputs": [],
   "source": [
    "plt.figure(figsize=(20, 6))\n",
    "hourly_data.hourly_values.plot()\n"
   ]
  },
  {
   "cell_type": "code",
   "execution_count": null,
   "id": "87700b29-986f-42c9-9d3f-62950ea5879d",
   "metadata": {},
   "outputs": [],
   "source": [
    "cut_hourldf = cut_hourl.to_dataframe()\n"
   ]
  },
  {
   "cell_type": "code",
   "execution_count": null,
   "id": "0fd45800-ba99-493c-a825-3bb6dfd215fa",
   "metadata": {},
   "outputs": [],
   "source": [
    "cut_hourldf\n"
   ]
  },
  {
   "cell_type": "code",
   "execution_count": null,
   "id": "d82491b5-ae66-4e82-9102-ee922f4b7784",
   "metadata": {},
   "outputs": [],
   "source": [
    "datadiff = data.tp.diff(dim='time')\n",
    "datadiff = datadiff.shift(time=1)\n",
    "datadiff[0] = data.tp.isel(time=0)\n",
    "df = datadiff.to_dataframe()\n"
   ]
  },
  {
   "cell_type": "code",
   "execution_count": null,
   "id": "e4fe8b51-16ac-4487-ba71-3b32400b42cf",
   "metadata": {},
   "outputs": [],
   "source": [
    "import xarray as xr\n",
    "\n",
    "# Load your cumulative precipitation data into an xarray dataset\n",
    "ds = data\n",
    "\n",
    "# Calculate hourly precipitation\n",
    "hourly_precip = xr.DataArray(\n",
    "    ds.tp.values - ds.tp.shift(time=1).values,\n",
    "    coords={'time': ds.time},\n",
    "    dims={'time': ds.time.dims[0]}\n",
    ")\n",
    "\n",
    "# For the first hour of each day, set the value to the cumulative precipitation for that day\n",
    "hourly_precip[0] = ds.tp[0]\n",
    "\n",
    "# Now, you have an xarray variable `hourly_precip` with hourly precipitation values, correctly reset each day\n"
   ]
  },
  {
   "cell_type": "code",
   "execution_count": null,
   "id": "1ef76db6-78b1-44b3-8f38-235a5d2be55a",
   "metadata": {},
   "outputs": [],
   "source": [
    "hourly_precip.plot()"
   ]
  },
  {
   "cell_type": "code",
   "execution_count": null,
   "id": "7edf6118-1fb8-4c37-a75c-52c379c4f20a",
   "metadata": {},
   "outputs": [],
   "source": []
  },
  {
   "cell_type": "code",
   "execution_count": null,
   "id": "34593295-7781-4f18-9740-c8d61d32df19",
   "metadata": {},
   "outputs": [],
   "source": []
  },
  {
   "cell_type": "code",
   "execution_count": null,
   "id": "54ad8f0f-242b-48dc-8735-f6082cf6b897",
   "metadata": {},
   "outputs": [],
   "source": []
  },
  {
   "cell_type": "code",
   "execution_count": null,
   "id": "e4724733-f7f8-4228-9215-c755a761a039",
   "metadata": {},
   "outputs": [],
   "source": []
  },
  {
   "cell_type": "markdown",
   "id": "20c942c0-5674-48f2-acf5-ebf4945d5a1b",
   "metadata": {},
   "source": [
    "## test "
   ]
  },
  {
   "cell_type": "code",
   "execution_count": null,
   "id": "4647b279-be58-4d35-92bc-9622c04c3f7f",
   "metadata": {},
   "outputs": [],
   "source": [
    "import xarray as xr\n",
    "import numpy as np\n",
    "import pandas as pd\n",
    "\n",
    "# Create sample data\n",
    "temperature_data = np.tile(np.arange(0+5, 24+5), 3)  # Temperatures from 1 to 23 for 3 days\n",
    "# precipitation_data = np.random.uniform(0, 5, size=(72, 1, 1))  # Generate random precipitation data for 3 days\n",
    "\n",
    "# Define dimensions\n",
    "time = pd.date_range(start=\"2023-01-01\", periods=72, freq=\"H\")  # Hourly time steps for 3 days\n",
    "latitude = [0]\n",
    "longitude = [0]\n",
    "\n",
    "# Create xarray dataset\n",
    "ds = xr.Dataset({\n",
    "    'temperature': (['time', 'latitude', 'longitude'], temperature_data.reshape(72, 1, 1)),\n",
    "    # 'precipitation': (['time', 'latitude', 'longitude'], precipitation_data)\n",
    "},\n",
    "    coords={'time': time, 'latitude': latitude, 'longitude': longitude}\n",
    ")\n",
    "\n",
    "# # Optional: Add attributes\n",
    "# ds.attrs['description'] = 'Sample weather dataset'\n",
    "# ds['temperature'].attrs['units'] = 'Celsius'\n",
    "# ds['precipitation'].attrs['units'] = 'mm'\n",
    "\n",
    "# Print the dataset\n",
    "ds\n"
   ]
  },
  {
   "cell_type": "code",
   "execution_count": null,
   "id": "8700da4e-4939-49af-832e-935c13a1ac16",
   "metadata": {},
   "outputs": [],
   "source": [
    "dsdf = ds.to_dataframe().reset_index().drop(['latitude', 'longitude'], axis = 1).set_index('time')\n",
    "# dsdf"
   ]
  },
  {
   "cell_type": "code",
   "execution_count": null,
   "id": "7665fdc6-4d3b-4146-99ce-9383b28494d6",
   "metadata": {},
   "outputs": [],
   "source": [
    "dsdf['shifted'] = dsdf.temperature.shift(1, fill_value = 0)\n",
    "dsdf['diff'] = dsdf.temperature - dsdf.shifted"
   ]
  },
  {
   "cell_type": "code",
   "execution_count": null,
   "id": "4b56e4b2-4477-4ca0-b9ec-c08899bedad6",
   "metadata": {},
   "outputs": [],
   "source": [
    "fig, ax = plt.subplots(figsize = (15, 5))\n",
    "dsdf.plot(ax = ax)"
   ]
  },
  {
   "cell_type": "code",
   "execution_count": null,
   "id": "dbc8ae94-fd66-456b-a2c6-1cf0a00bc715",
   "metadata": {},
   "outputs": [],
   "source": [
    "# dsdf['diff'].values\n",
    "\n",
    "# # Extract the date portion of the datetime and group by it\n",
    "# grouped = dsdf.groupby(dsdf['time'].dt.date)\n"
   ]
  },
  {
   "cell_type": "code",
   "execution_count": null,
   "id": "a22bd017-5923-4f3c-81f8-ae7393405059",
   "metadata": {},
   "outputs": [],
   "source": [
    "# # Define a custom function to calculate the difference\n",
    "# def calculate_difference(group):\n",
    "#     group['diff'] = group['temperature'] - group['temperature'].shift(1)\n",
    "#     return group\n",
    "\n",
    "\n",
    "# # Apply the custom function to each day group\n",
    "# result_df = grouped.apply(calculate_difference)"
   ]
  },
  {
   "cell_type": "code",
   "execution_count": null,
   "id": "c5e82667-cbf1-4ff5-9040-5ea73bc4bc84",
   "metadata": {},
   "outputs": [],
   "source": []
  },
  {
   "cell_type": "code",
   "execution_count": null,
   "id": "9150a849-4b7c-4e93-ac10-e1a1e2e30f99",
   "metadata": {},
   "outputs": [],
   "source": []
  },
  {
   "cell_type": "code",
   "execution_count": null,
   "id": "7b1566a1-6fad-4701-b034-58dfcc01c384",
   "metadata": {},
   "outputs": [],
   "source": []
  },
  {
   "cell_type": "code",
   "execution_count": null,
   "id": "bfa7d916-184e-44f9-93e0-85d9b21d15d4",
   "metadata": {},
   "outputs": [],
   "source": [
    "# df"
   ]
  },
  {
   "cell_type": "code",
   "execution_count": null,
   "id": "495c248d-3d4d-4955-9072-067365f8f36a",
   "metadata": {},
   "outputs": [],
   "source": []
  },
  {
   "cell_type": "code",
   "execution_count": null,
   "id": "4a0bc42a-72f9-41f8-a5d0-414908b30ba8",
   "metadata": {},
   "outputs": [],
   "source": []
  },
  {
   "cell_type": "code",
   "execution_count": null,
   "id": "1c54bde3-3a43-4ca9-a809-a6f5cb21d7eb",
   "metadata": {},
   "outputs": [],
   "source": []
  },
  {
   "cell_type": "code",
   "execution_count": null,
   "id": "a77f99a3-085d-47e0-9c54-2534e5a63faa",
   "metadata": {},
   "outputs": [],
   "source": [
    "# define function \n",
    "def calculate_hourly_diff(arr):\n",
    "    diff = arr - arr.shift(time=1, fill_value=0)\n",
    "    return xr.DataArray(diff, coords=arr.coords)\n",
    "\n",
    "# apply function\n",
    "hourly_values = ds.temperature.groupby('time.dayofyear').apply(calculate_hourly_diff)\n",
    "hourly_data = xr.Dataset({'hourly_values': hourly_values})\n"
   ]
  },
  {
   "cell_type": "code",
   "execution_count": null,
   "id": "3954b055-7557-4ca8-8ea7-7068da5876d2",
   "metadata": {},
   "outputs": [],
   "source": [
    "fig, ax = plt.subplots(figsize = (20, 5))\n",
    "hourly_data.hourly_values.plot(label = 'changed')\n",
    "ds.temperature.plot(label = 'original')\n",
    "\n",
    "plt.legend()"
   ]
  },
  {
   "cell_type": "code",
   "execution_count": null,
   "id": "e33be0b3-deb4-47c6-b53b-293ac4fb16b4",
   "metadata": {},
   "outputs": [],
   "source": [
    "# hourly_data.hourly_values"
   ]
  },
  {
   "cell_type": "code",
   "execution_count": null,
   "id": "098ca9e8-21b7-42ec-bf2f-780452e3056e",
   "metadata": {},
   "outputs": [],
   "source": [
    "# Function to calculate hourly differences with reset at midnight\n",
    "def calculate_hourly_diff(arr):\n",
    "    diff = np.diff(arr, prepend=0)\n",
    "    return xr.DataArray(diff, coords=arr.coords)\n",
    "\n",
    "# apply function\n",
    "hourly_values = ds.temperature.groupby('time.dayofyear').apply(calculate_hourly_diff)\n",
    "hourly_data = xr.Dataset({'hourly_values': hourly_values})\n"
   ]
  },
  {
   "cell_type": "code",
   "execution_count": null,
   "id": "0c056a8c-4af3-4346-94e9-87fe9e443888",
   "metadata": {},
   "outputs": [],
   "source": [
    "fig, ax = plt.subplots(figsize = (20, 5))\n",
    "hourly_data.hourly_values.plot(label = 'changed')\n",
    "ds.temperature.plot(label = 'original')\n",
    "\n",
    "plt.legend()"
   ]
  },
  {
   "cell_type": "code",
   "execution_count": null,
   "id": "42d3e373-8b18-43a6-894a-6b3a5b90da3a",
   "metadata": {},
   "outputs": [],
   "source": []
  },
  {
   "cell_type": "code",
   "execution_count": null,
   "id": "ec171d00-c412-497d-8230-1d7d7a31778a",
   "metadata": {},
   "outputs": [],
   "source": []
  },
  {
   "cell_type": "code",
   "execution_count": null,
   "id": "426208ab-2b4e-4c4c-bc9e-22930eaafbfc",
   "metadata": {},
   "outputs": [],
   "source": [
    "data\n"
   ]
  },
  {
   "cell_type": "code",
   "execution_count": null,
   "id": "baa4c8d8-28e5-46df-ba25-00b61dc26fb6",
   "metadata": {},
   "outputs": [],
   "source": [
    "ds = data"
   ]
  },
  {
   "cell_type": "code",
   "execution_count": null,
   "id": "6c15888a-1cb1-49f4-aaf5-acb80f6dc97f",
   "metadata": {},
   "outputs": [],
   "source": [
    "ds_cumul = ds.cumsum(dim = 'time')"
   ]
  },
  {
   "cell_type": "code",
   "execution_count": null,
   "id": "f3f80a61-b175-487d-955b-eae269f01aa8",
   "metadata": {},
   "outputs": [],
   "source": [
    "ds_cumul.tp.isel(time = 200).plot()"
   ]
  },
  {
   "cell_type": "code",
   "execution_count": null,
   "id": "2ca3aa06-9f74-45b9-a9e8-4f2510f693af",
   "metadata": {},
   "outputs": [],
   "source": [
    "ds_cumul_diff = ds_cumul.diff(dim = 'time')"
   ]
  },
  {
   "cell_type": "code",
   "execution_count": null,
   "id": "c437159a-5e1b-4b01-9b68-10e235f83980",
   "metadata": {},
   "outputs": [],
   "source": [
    "ds_cumul_diff.tp.isel(time = 200).plot()"
   ]
  },
  {
   "cell_type": "code",
   "execution_count": null,
   "id": "a99d20d2-bf55-4119-b051-125bd728691f",
   "metadata": {},
   "outputs": [],
   "source": [
    "clip = ds_cumul_diff.sel(longitude = 84.0, latitude = 28.8, method = 'nearest')"
   ]
  },
  {
   "cell_type": "code",
   "execution_count": null,
   "id": "690ff210-f8e6-45b8-baa6-c94a5314e6b8",
   "metadata": {},
   "outputs": [],
   "source": [
    "fig, ax = plt.subplots(figsize = (20, 5))\n",
    "clip.tp.plot()"
   ]
  },
  {
   "cell_type": "code",
   "execution_count": null,
   "id": "f108ad75-7bcc-457a-8011-f4f707614bb2",
   "metadata": {},
   "outputs": [],
   "source": []
  }
 ],
 "metadata": {
  "kernelspec": {
   "display_name": "Python [conda env:project1] *",
   "language": "python",
   "name": "conda-env-project1-py"
  },
  "language_info": {
   "codemirror_mode": {
    "name": "ipython",
    "version": 3
   },
   "file_extension": ".py",
   "mimetype": "text/x-python",
   "name": "python",
   "nbconvert_exporter": "python",
   "pygments_lexer": "ipython3",
   "version": "3.7.11"
  }
 },
 "nbformat": 4,
 "nbformat_minor": 5
}
