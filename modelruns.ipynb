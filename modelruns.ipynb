{
 "cells": [
  {
   "cell_type": "code",
   "execution_count": 1,
   "id": "4a640e50-0609-4885-9157-a6d25cea915c",
   "metadata": {},
   "outputs": [],
   "source": [
    "import pandas as pd\n",
    "import matplotlib.pyplot as plt\n",
    "\n",
    "from SedCas import SedCas\n",
    "\n",
    "%matplotlib inline"
   ]
  },
  {
   "cell_type": "code",
   "execution_count": null,
   "id": "7abe2841-e1b6-4b5e-b795-ebd6cbae192c",
   "metadata": {},
   "outputs": [],
   "source": []
  },
  {
   "cell_type": "markdown",
   "id": "70e9593c-5c36-44fa-b053-e395ab1a4465",
   "metadata": {},
   "source": [
    "## Model run"
   ]
  },
  {
   "cell_type": "code",
   "execution_count": 2,
   "id": "4e8bfc0d-2f32-4957-9cfd-e4abba642d36",
   "metadata": {},
   "outputs": [
    {
     "data": {
      "text/plain": [
       "'\\nCreated on Thu Feb  3 16:56:57 2022\\n\\n@author: hirschbe\\n'"
      ]
     },
     "execution_count": 2,
     "metadata": {},
     "output_type": "execute_result"
    }
   ],
   "source": [
    "\"\"\"\n",
    "Created on Thu Feb  3 16:56:57 2022\n",
    "\n",
    "@author: hirschbe\n",
    "\"\"\"\n",
    "\n",
    "# from SedCas import SedCas\n",
    "# \n",
    "# model = SedCas()\n",
    "# model.load_climate()\n",
    "# model.load_params()\n",
    "# model.run_hydro()\n",
    "# model.run_sediment()\n",
    "# model.save_output()\n",
    "# model.plot_sedyield_monthly()\n",
    "\n",
    "# Qstl = potential sediment catchment output [mm], i.e. transport-limited case"
   ]
  },
  {
   "cell_type": "code",
   "execution_count": 3,
   "id": "18f416eb-843e-45ea-8c8d-048b76498047",
   "metadata": {},
   "outputs": [],
   "source": [
    "from SedCas import SedCas\n",
    "\n",
    "model = SedCas()\n",
    "model.load_climate()\n",
    "model.load_params()"
   ]
  },
  {
   "cell_type": "code",
   "execution_count": 4,
   "id": "5867fc4a-e11c-4aed-9252-55dda67970db",
   "metadata": {},
   "outputs": [],
   "source": [
    "model.run_hydro()\n",
    "# model.run_sediment()\n",
    "# model.save_output()"
   ]
  },
  {
   "cell_type": "code",
   "execution_count": 5,
   "id": "3458114a-5071-4ec7-951d-c332bdb98636",
   "metadata": {},
   "outputs": [
    {
     "name": "stdout",
     "output_type": "stream",
     "text": [
      "running sediment module...\n"
     ]
    },
    {
     "name": "stderr",
     "output_type": "stream",
     "text": [
      "100%|█████████████████████████████████████████| 100/100 [01:44<00:00,  1.05s/it]\n"
     ]
    }
   ],
   "source": [
    "%%time\n",
    "model.run_sediment()"
   ]
  },
  {
   "cell_type": "code",
   "execution_count": 6,
   "id": "b01639b3-b822-4f25-bdf4-dda9f746a6bd",
   "metadata": {},
   "outputs": [
    {
     "data": {
      "image/png": "[encoded data removed]",
      "text/plain": [
       "<Figure size 432x288 with 1 Axes>"
      ]
     },
     "metadata": {
      "needs_background": "light"
     },
     "output_type": "display_data"
    }
   ],
   "source": [
    "model.save_output()\n",
    "model.plot_sedyield_monthly()"
   ]
  },
  {
   "cell_type": "markdown",
   "id": "5a9fe67f-54da-45a9-b8f9-3ba16302e238",
   "metadata": {},
   "source": [
    "### look at the output"
   ]
  },
  {
   "cell_type": "code",
   "execution_count": 7,
   "id": "61697255-9236-4b3e-b456-75f1c6169659",
   "metadata": {},
   "outputs": [],
   "source": [
    "hydroout = pd.read_csv('Hydro.out')\n",
    "sedimentout = pd.read_csv('Sediment.out')\n",
    "\n",
    "climate = pd.read_csv('climate.met', sep = '\\t')"
   ]
  },
  {
   "cell_type": "code",
   "execution_count": 12,
   "id": "5b0250a0-50cb-42bf-9f8f-02c8b8d183d0",
   "metadata": {},
   "outputs": [],
   "source": [
    "# sedimentout"
   ]
  },
  {
   "cell_type": "code",
   "execution_count": 13,
   "id": "0a4f540f-b1bc-4ca0-9a42-439f634c00d3",
   "metadata": {},
   "outputs": [],
   "source": [
    "# sedimentout.Qstl.plot()\n",
    "# hydroout.tail()"
   ]
  },
  {
   "cell_type": "code",
   "execution_count": 25,
   "id": "61a0bc0f-0fe5-450a-a4e6-7b46d6c8c119",
   "metadata": {},
   "outputs": [],
   "source": [
    "# sedimentout.Qstl.plot()"
   ]
  },
  {
   "cell_type": "markdown",
   "id": "732cfc9c-5f89-4b21-952c-139d4de3c783",
   "metadata": {},
   "source": [
    "### total amount of sediments washed out: "
   ]
  },
  {
   "cell_type": "code",
   "execution_count": 8,
   "id": "a9558a4f-609e-4d95-8079-e4af9b7bd942",
   "metadata": {},
   "outputs": [
    {
     "name": "stdout",
     "output_type": "stream",
     "text": [
      "total amount of sediments washed (under TL situation) [mm]: 530.0659211498565\n"
     ]
    }
   ],
   "source": [
    "total = sedimentout.sum()\n",
    "print('total amount of sediments washed (under TL situation) [mm]:', total.Qstl)"
   ]
  },
  {
   "cell_type": "code",
   "execution_count": 9,
   "id": "770c7147-31d3-4053-a174-f65671884bd8",
   "metadata": {},
   "outputs": [],
   "source": [
    "## unite here: \n",
    "sediments = sedimentout\n",
    "\n",
    "# get area from parameters files: \n",
    "area = 4.83\n",
    "cf = (area*10**6) * 10**-3   # km2 to m2 and mm to m\n",
    "\n",
    "# qstl_area = pd.DataFrame(data = sedimentout.Qstl*cf, index=pd.to_datetime(sedimentout.index))\n",
    "qstl_area = pd.DataFrame()\n",
    "qstl_area['Qstl'] = sedimentout.Qstl*cf # -> m3 \n",
    "qstl_area.index = sedimentout.D\n",
    "\n",
    "# qstl_area.set_index('D')\n",
    "qstl_area.index = pd.to_datetime(qstl_area.index)\n",
    "\n",
    "sym = qstl_area.resample('m').sum()            # sediment yeld month \n",
    "symm = sym.groupby(by=sym.index.month).mean()  # sediment yeld month mean \n",
    "\n"
   ]
  },
  {
   "cell_type": "code",
   "execution_count": 14,
   "id": "6d2233a3-3fe2-415f-8abe-812665ba442e",
   "metadata": {},
   "outputs": [],
   "source": [
    "qstl_area.rename(columns={'Qstl': 'Qstl_19easterntsh'})\n",
    "# qstl_area.to_csv('13_19easterntsh_Qstl_m3.csv') \n",
    "# 19_Eastern_Tien_Shan"
   ]
  },
  {
   "cell_type": "code",
   "execution_count": 12,
   "id": "36de9f52-7c55-4769-a825-9bb614331867",
   "metadata": {},
   "outputs": [],
   "source": []
  },
  {
   "cell_type": "code",
   "execution_count": 1,
   "id": "2208964c-2625-4e19-94b6-df478d837fbe",
   "metadata": {},
   "outputs": [],
   "source": []
  },
  {
   "cell_type": "code",
   "execution_count": 2,
   "id": "8693b3e6-f5ec-418e-80b7-7e3b92ba4f49",
   "metadata": {},
   "outputs": [
    {
     "ename": "FileNotFoundError",
     "evalue": "[Errno 2] No such file or directory: '19_Eastern_Tien_Shan'",
     "output_type": "error",
     "traceback": [
      "\u001b[0;31m---------------------------------------------------------------------------\u001b[0m",
      "\u001b[0;31mFileNotFoundError\u001b[0m                         Traceback (most recent call last)",
      "\u001b[0;32m/var/folders/31/xdyntby945q7564txk4rqyh40000gp/T/ipykernel_1743/4231048250.py\u001b[0m in \u001b[0;36m<module>\u001b[0;34m\u001b[0m\n\u001b[0;32m----> 1\u001b[0;31m \u001b[0mos\u001b[0m\u001b[0;34m.\u001b[0m\u001b[0mchdir\u001b[0m\u001b[0;34m(\u001b[0m\u001b[0;34m'19_Eastern_Tien_Shan'\u001b[0m\u001b[0;34m)\u001b[0m\u001b[0;34m\u001b[0m\u001b[0;34m\u001b[0m\u001b[0m\n\u001b[0m",
      "\u001b[0;31mFileNotFoundError\u001b[0m: [Errno 2] No such file or directory: '19_Eastern_Tien_Shan'"
     ]
    }
   ],
   "source": [
    "os.chdir('19_Eastern_Tien_Shan')"
   ]
  },
  {
   "cell_type": "code",
   "execution_count": null,
   "id": "7546fcf9-b0c0-4eb4-823a-f71b30d4bd7a",
   "metadata": {},
   "outputs": [],
   "source": []
  },
  {
   "cell_type": "code",
   "execution_count": null,
   "id": "bb7d1948-8791-4fe5-b7d1-a7c3aa313132",
   "metadata": {},
   "outputs": [],
   "source": []
  },
  {
   "cell_type": "code",
   "execution_count": null,
   "id": "dac66bda-7ee3-4be5-a45d-e449d317c540",
   "metadata": {},
   "outputs": [],
   "source": []
  },
  {
   "cell_type": "code",
   "execution_count": null,
   "id": "cab9e8ac-529b-4595-89df-7d2cc4cb1097",
   "metadata": {},
   "outputs": [],
   "source": []
  },
  {
   "cell_type": "code",
   "execution_count": null,
   "id": "cdb36302-42dd-479e-8f2a-8916c98f41ef",
   "metadata": {},
   "outputs": [],
   "source": []
  },
  {
   "cell_type": "code",
   "execution_count": null,
   "id": "15208f99-8e87-4b37-92c3-9cbd173f5ced",
   "metadata": {},
   "outputs": [],
   "source": []
  }
 ],
 "metadata": {
  "kernelspec": {
   "display_name": "Python [conda env:sedcas] *",
   "language": "python",
   "name": "conda-env-sedcas-py"
  },
  "language_info": {
   "codemirror_mode": {
    "name": "ipython",
    "version": 3
   },
   "file_extension": ".py",
   "mimetype": "text/x-python",
   "name": "python",
   "nbconvert_exporter": "python",
   "pygments_lexer": "ipython3",
   "version": "3.9.7"
  }
 },
 "nbformat": 4,
 "nbformat_minor": 5
}
