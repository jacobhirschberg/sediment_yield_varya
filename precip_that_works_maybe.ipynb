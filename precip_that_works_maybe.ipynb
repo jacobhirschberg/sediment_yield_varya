{
 "cells": [
  {
   "cell_type": "code",
   "execution_count": 47,
   "id": "1e3d0d4c-1f34-4b77-9fda-8b231e4a1633",
   "metadata": {},
   "outputs": [],
   "source": [
    "import pandas as pd\n",
    "import xarray as xr\n",
    "import matplotlib.pyplot as plt\n",
    "import numpy as np\n",
    "\n",
    "import glob\n"
   ]
  },
  {
   "cell_type": "markdown",
   "id": "c003f580-5809-44c2-b058-4c116d080d09",
   "metadata": {},
   "source": [
    "### test for the way shift and taking a diff between arr - arr.shift() works "
   ]
  },
  {
   "cell_type": "code",
   "execution_count": 48,
   "id": "7c0852c1-2ba9-4739-b300-3aaa9aff0230",
   "metadata": {},
   "outputs": [],
   "source": [
    "\n",
    "import numpy as np\n",
    "from scipy.ndimage import shift\n",
    "\n",
    "# xs = np.array([ 0.,  1.,  2.,  3.,  4.,  5.,  6.,  7.,  8.,  9.])\n",
    "\n",
    "# shift(xs, 1)#, cval=np.NaN)\n",
    "\n",
    "arr1 = np.array([2, 3, 4, 5, 6, 7])\n",
    "# arr2 = [1, 2, 3, 4, 5, 6]\n",
    "\n",
    "arr1sh = shift(arr1, 1)\n",
    "\n",
    "diff = arr1 - arr1sh\n"
   ]
  },
  {
   "cell_type": "code",
   "execution_count": 49,
   "id": "560adb80-dcdd-48c6-a079-ffa27f4fb986",
   "metadata": {},
   "outputs": [
    {
     "name": "stdout",
     "output_type": "stream",
     "text": [
      "[2 3 4 5 6 7]\n",
      "[0 2 3 4 5 6]\n",
      "[2 1 1 1 1 1]\n"
     ]
    }
   ],
   "source": [
    "print(arr1)\n",
    "print(arr1sh)\n",
    "print(diff)"
   ]
  },
  {
   "cell_type": "code",
   "execution_count": null,
   "id": "d9593737-dae1-41cc-b7b5-dbf68d6bf5fb",
   "metadata": {},
   "outputs": [],
   "source": []
  },
  {
   "cell_type": "code",
   "execution_count": null,
   "id": "1ea92d30-1bf4-40d4-bfc0-f3a05c0685df",
   "metadata": {},
   "outputs": [],
   "source": []
  },
  {
   "cell_type": "markdown",
   "id": "fcda690b-c8b6-4d2c-b832-80d6f74c52bf",
   "metadata": {},
   "source": [
    "## loop over years, append together "
   ]
  },
  {
   "cell_type": "code",
   "execution_count": 50,
   "id": "f0093c06-dff9-4465-80d3-79187ca24081",
   "metadata": {},
   "outputs": [],
   "source": [
    "# read all data\n",
    "\n",
    "directory = '/Users/varyabazilova/Desktop/uu/0_teaching/Msc_students/Leon/testera5land/ncfiles/'\n",
    "files = glob.glob(directory + '*.nc')"
   ]
  },
  {
   "cell_type": "code",
   "execution_count": 51,
   "id": "576f88c2-0360-4438-94fc-cddf166396df",
   "metadata": {},
   "outputs": [],
   "source": [
    "# create an empty dataset to append new values to \n",
    "\n",
    "\n",
    "# Define the dimensions and coordinates (you can adjust these to your needs)\n",
    "dims = ('time', 'latitude', 'longitude')\n",
    "coords = {\n",
    "    'time': [],\n",
    "    'latitude': [],\n",
    "    'longitude': [],\n",
    "    # Add more coordinates as needed\n",
    "}\n",
    "\n",
    "# Create an empty xarray dataset with empty data variables\n",
    "empty_dataset = xr.Dataset(\n",
    "    {\n",
    "        'tp': (dims, np.nan * np.empty((0, 0, 0))),  \n",
    "    },\n",
    "    coords=coords\n",
    ")\n",
    "\n",
    "# empty_dataset\n"
   ]
  },
  {
   "cell_type": "code",
   "execution_count": 52,
   "id": "325db028-c640-4365-a28e-e254a2bf641d",
   "metadata": {},
   "outputs": [],
   "source": [
    "# define function \n",
    "def calculate_hourly_diff(arr):\n",
    "    ''' calculate difference''' \n",
    "    diff = arr - arr.shift(time=1, fill_value=0)\n",
    "    return xr.DataArray(diff, coords=arr.coords)\n",
    "\n",
    "# run for every file in the directory: \n",
    "for i in files: \n",
    "    i = xr.open_dataset(i)\n",
    "    \n",
    "    i['tp'] = i.tp.where(i.tp >= 0, 0)\n",
    "    \n",
    "    i = i.shift(time = -1, fill_value = 0)\n",
    "    values = i.tp.groupby('time.dayofyear').apply(calculate_hourly_diff)\n",
    "    new_data = xr.Dataset({'tp': values})\n",
    "    \n",
    "    # after you run a \"year\", append to the \"empty_data\" to fill it \n",
    "    empty_dataset = xr.concat([empty_dataset, new_data], dim='time')\n",
    "\n",
    "    \n",
    "empty_dataset = empty_dataset.sortby('time')"
   ]
  },
  {
   "cell_type": "code",
   "execution_count": 54,
   "id": "6748edb0-33d1-4309-828e-a15fa0b47de0",
   "metadata": {},
   "outputs": [
    {
     "data": {
      "text/plain": [
       "\" empty_dataset - this is your xarray dataset with ''normal'' hourly values\""
      ]
     },
     "execution_count": 54,
     "metadata": {},
     "output_type": "execute_result"
    }
   ],
   "source": [
    "''' empty_dataset - this is your xarray dataset with ''normal'' hourly values''' \n",
    "\n",
    "# empty_dataset"
   ]
  },
  {
   "cell_type": "markdown",
   "id": "182b5031-6a64-4985-9f88-9110b6aa40e4",
   "metadata": {},
   "source": [
    "# play around with time series to look at how data actually looks like"
   ]
  },
  {
   "cell_type": "code",
   "execution_count": 55,
   "id": "72786e9a-ed12-4804-b9cc-6dd16c330df3",
   "metadata": {},
   "outputs": [],
   "source": [
    "cut_coords = empty_dataset.sel(latitude=29.0, longitude=84.0, method='nearest')\n",
    "\n",
    "# slice data - take a day  \n",
    "start_date = '2020-12-30T00:00:00.000000000'\n",
    "end_date   = '2021-01-10T23:00:00.000000000'\n",
    "\n",
    "# Slice the dataset for a day \n",
    "cut_time = cut_coords.sel(time=slice(start_date, end_date))\n"
   ]
  },
  {
   "cell_type": "code",
   "execution_count": 56,
   "id": "27e304ba-d474-4147-8d58-3f8221bfdf4b",
   "metadata": {},
   "outputs": [
    {
     "data": {
      "text/html": [
       "<div><svg style=\"position: absolute; width: 0; height: 0; overflow: hidden\">\n",
       "<defs>\n",
       "<symbol id=\"icon-database\" viewBox=\"0 0 32 32\">\n",
       "<path d=\"M16 0c-8.837 0-16 2.239-16 5v4c0 2.761 7.163 5 16 5s16-2.239 16-5v-4c0-2.761-7.163-5-16-5z\"></path>\n",
       "<path d=\"M16 17c-8.837 0-16-2.239-16-5v6c0 2.761 7.163 5 16 5s16-2.239 16-5v-6c0 2.761-7.163 5-16 5z\"></path>\n",
       "<path d=\"M16 26c-8.837 0-16-2.239-16-5v6c0 2.761 7.163 5 16 5s16-2.239 16-5v-6c0 2.761-7.163 5-16 5z\"></path>\n",
       "</symbol>\n",
       "<symbol id=\"icon-file-text2\" viewBox=\"0 0 32 32\">\n",
       "<path d=\"M28.681 7.159c-0.694-0.947-1.662-2.053-2.724-3.116s-2.169-2.030-3.116-2.724c-1.612-1.182-2.393-1.319-2.841-1.319h-15.5c-1.378 0-2.5 1.121-2.5 2.5v27c0 1.378 1.122 2.5 2.5 2.5h23c1.378 0 2.5-1.122 2.5-2.5v-19.5c0-0.448-0.137-1.23-1.319-2.841zM24.543 5.457c0.959 0.959 1.712 1.825 2.268 2.543h-4.811v-4.811c0.718 0.556 1.584 1.309 2.543 2.268zM28 29.5c0 0.271-0.229 0.5-0.5 0.5h-23c-0.271 0-0.5-0.229-0.5-0.5v-27c0-0.271 0.229-0.5 0.5-0.5 0 0 15.499-0 15.5 0v7c0 0.552 0.448 1 1 1h7v19.5z\"></path>\n",
       "<path d=\"M23 26h-14c-0.552 0-1-0.448-1-1s0.448-1 1-1h14c0.552 0 1 0.448 1 1s-0.448 1-1 1z\"></path>\n",
       "<path d=\"M23 22h-14c-0.552 0-1-0.448-1-1s0.448-1 1-1h14c0.552 0 1 0.448 1 1s-0.448 1-1 1z\"></path>\n",
       "<path d=\"M23 18h-14c-0.552 0-1-0.448-1-1s0.448-1 1-1h14c0.552 0 1 0.448 1 1s-0.448 1-1 1z\"></path>\n",
       "</symbol>\n",
       "</defs>\n",
       "</svg>\n",
       "<style>/* CSS stylesheet for displaying xarray objects in jupyterlab.\n",
       " *\n",
       " */\n",
       "\n",
       ":root {\n",
       "  --xr-font-color0: var(--jp-content-font-color0, rgba(0, 0, 0, 1));\n",
       "  --xr-font-color2: var(--jp-content-font-color2, rgba(0, 0, 0, 0.54));\n",
       "  --xr-font-color3: var(--jp-content-font-color3, rgba(0, 0, 0, 0.38));\n",
       "  --xr-border-color: var(--jp-border-color2, #e0e0e0);\n",
       "  --xr-disabled-color: var(--jp-layout-color3, #bdbdbd);\n",
       "  --xr-background-color: var(--jp-layout-color0, white);\n",
       "  --xr-background-color-row-even: var(--jp-layout-color1, white);\n",
       "  --xr-background-color-row-odd: var(--jp-layout-color2, #eeeeee);\n",
       "}\n",
       "\n",
       "html[theme=dark],\n",
       "body.vscode-dark {\n",
       "  --xr-font-color0: rgba(255, 255, 255, 1);\n",
       "  --xr-font-color2: rgba(255, 255, 255, 0.54);\n",
       "  --xr-font-color3: rgba(255, 255, 255, 0.38);\n",
       "  --xr-border-color: #1F1F1F;\n",
       "  --xr-disabled-color: #515151;\n",
       "  --xr-background-color: #111111;\n",
       "  --xr-background-color-row-even: #111111;\n",
       "  --xr-background-color-row-odd: #313131;\n",
       "}\n",
       "\n",
       ".xr-wrap {\n",
       "  display: block;\n",
       "  min-width: 300px;\n",
       "  max-width: 700px;\n",
       "}\n",
       "\n",
       ".xr-text-repr-fallback {\n",
       "  /* fallback to plain text repr when CSS is not injected (untrusted notebook) */\n",
       "  display: none;\n",
       "}\n",
       "\n",
       ".xr-header {\n",
       "  padding-top: 6px;\n",
       "  padding-bottom: 6px;\n",
       "  margin-bottom: 4px;\n",
       "  border-bottom: solid 1px var(--xr-border-color);\n",
       "}\n",
       "\n",
       ".xr-header > div,\n",
       ".xr-header > ul {\n",
       "  display: inline;\n",
       "  margin-top: 0;\n",
       "  margin-bottom: 0;\n",
       "}\n",
       "\n",
       ".xr-obj-type,\n",
       ".xr-array-name {\n",
       "  margin-left: 2px;\n",
       "  margin-right: 10px;\n",
       "}\n",
       "\n",
       ".xr-obj-type {\n",
       "  color: var(--xr-font-color2);\n",
       "}\n",
       "\n",
       ".xr-sections {\n",
       "  padding-left: 0 !important;\n",
       "  display: grid;\n",
       "  grid-template-columns: 150px auto auto 1fr 20px 20px;\n",
       "}\n",
       "\n",
       ".xr-section-item {\n",
       "  display: contents;\n",
       "}\n",
       "\n",
       ".xr-section-item input {\n",
       "  display: none;\n",
       "}\n",
       "\n",
       ".xr-section-item input + label {\n",
       "  color: var(--xr-disabled-color);\n",
       "}\n",
       "\n",
       ".xr-section-item input:enabled + label {\n",
       "  cursor: pointer;\n",
       "  color: var(--xr-font-color2);\n",
       "}\n",
       "\n",
       ".xr-section-item input:enabled + label:hover {\n",
       "  color: var(--xr-font-color0);\n",
       "}\n",
       "\n",
       ".xr-section-summary {\n",
       "  grid-column: 1;\n",
       "  color: var(--xr-font-color2);\n",
       "  font-weight: 500;\n",
       "}\n",
       "\n",
       ".xr-section-summary > span {\n",
       "  display: inline-block;\n",
       "  padding-left: 0.5em;\n",
       "}\n",
       "\n",
       ".xr-section-summary-in:disabled + label {\n",
       "  color: var(--xr-font-color2);\n",
       "}\n",
       "\n",
       ".xr-section-summary-in + label:before {\n",
       "  display: inline-block;\n",
       "  content: '►';\n",
       "  font-size: 11px;\n",
       "  width: 15px;\n",
       "  text-align: center;\n",
       "}\n",
       "\n",
       ".xr-section-summary-in:disabled + label:before {\n",
       "  color: var(--xr-disabled-color);\n",
       "}\n",
       "\n",
       ".xr-section-summary-in:checked + label:before {\n",
       "  content: '▼';\n",
       "}\n",
       "\n",
       ".xr-section-summary-in:checked + label > span {\n",
       "  display: none;\n",
       "}\n",
       "\n",
       ".xr-section-summary,\n",
       ".xr-section-inline-details {\n",
       "  padding-top: 4px;\n",
       "  padding-bottom: 4px;\n",
       "}\n",
       "\n",
       ".xr-section-inline-details {\n",
       "  grid-column: 2 / -1;\n",
       "}\n",
       "\n",
       ".xr-section-details {\n",
       "  display: none;\n",
       "  grid-column: 1 / -1;\n",
       "  margin-bottom: 5px;\n",
       "}\n",
       "\n",
       ".xr-section-summary-in:checked ~ .xr-section-details {\n",
       "  display: contents;\n",
       "}\n",
       "\n",
       ".xr-array-wrap {\n",
       "  grid-column: 1 / -1;\n",
       "  display: grid;\n",
       "  grid-template-columns: 20px auto;\n",
       "}\n",
       "\n",
       ".xr-array-wrap > label {\n",
       "  grid-column: 1;\n",
       "  vertical-align: top;\n",
       "}\n",
       "\n",
       ".xr-preview {\n",
       "  color: var(--xr-font-color3);\n",
       "}\n",
       "\n",
       ".xr-array-preview,\n",
       ".xr-array-data {\n",
       "  padding: 0 5px !important;\n",
       "  grid-column: 2;\n",
       "}\n",
       "\n",
       ".xr-array-data,\n",
       ".xr-array-in:checked ~ .xr-array-preview {\n",
       "  display: none;\n",
       "}\n",
       "\n",
       ".xr-array-in:checked ~ .xr-array-data,\n",
       ".xr-array-preview {\n",
       "  display: inline-block;\n",
       "}\n",
       "\n",
       ".xr-dim-list {\n",
       "  display: inline-block !important;\n",
       "  list-style: none;\n",
       "  padding: 0 !important;\n",
       "  margin: 0;\n",
       "}\n",
       "\n",
       ".xr-dim-list li {\n",
       "  display: inline-block;\n",
       "  padding: 0;\n",
       "  margin: 0;\n",
       "}\n",
       "\n",
       ".xr-dim-list:before {\n",
       "  content: '(';\n",
       "}\n",
       "\n",
       ".xr-dim-list:after {\n",
       "  content: ')';\n",
       "}\n",
       "\n",
       ".xr-dim-list li:not(:last-child):after {\n",
       "  content: ',';\n",
       "  padding-right: 5px;\n",
       "}\n",
       "\n",
       ".xr-has-index {\n",
       "  font-weight: bold;\n",
       "}\n",
       "\n",
       ".xr-var-list,\n",
       ".xr-var-item {\n",
       "  display: contents;\n",
       "}\n",
       "\n",
       ".xr-var-item > div,\n",
       ".xr-var-item label,\n",
       ".xr-var-item > .xr-var-name span {\n",
       "  background-color: var(--xr-background-color-row-even);\n",
       "  margin-bottom: 0;\n",
       "}\n",
       "\n",
       ".xr-var-item > .xr-var-name:hover span {\n",
       "  padding-right: 5px;\n",
       "}\n",
       "\n",
       ".xr-var-list > li:nth-child(odd) > div,\n",
       ".xr-var-list > li:nth-child(odd) > label,\n",
       ".xr-var-list > li:nth-child(odd) > .xr-var-name span {\n",
       "  background-color: var(--xr-background-color-row-odd);\n",
       "}\n",
       "\n",
       ".xr-var-name {\n",
       "  grid-column: 1;\n",
       "}\n",
       "\n",
       ".xr-var-dims {\n",
       "  grid-column: 2;\n",
       "}\n",
       "\n",
       ".xr-var-dtype {\n",
       "  grid-column: 3;\n",
       "  text-align: right;\n",
       "  color: var(--xr-font-color2);\n",
       "}\n",
       "\n",
       ".xr-var-preview {\n",
       "  grid-column: 4;\n",
       "}\n",
       "\n",
       ".xr-var-name,\n",
       ".xr-var-dims,\n",
       ".xr-var-dtype,\n",
       ".xr-preview,\n",
       ".xr-attrs dt {\n",
       "  white-space: nowrap;\n",
       "  overflow: hidden;\n",
       "  text-overflow: ellipsis;\n",
       "  padding-right: 10px;\n",
       "}\n",
       "\n",
       ".xr-var-name:hover,\n",
       ".xr-var-dims:hover,\n",
       ".xr-var-dtype:hover,\n",
       ".xr-attrs dt:hover {\n",
       "  overflow: visible;\n",
       "  width: auto;\n",
       "  z-index: 1;\n",
       "}\n",
       "\n",
       ".xr-var-attrs,\n",
       ".xr-var-data {\n",
       "  display: none;\n",
       "  background-color: var(--xr-background-color) !important;\n",
       "  padding-bottom: 5px !important;\n",
       "}\n",
       "\n",
       ".xr-var-attrs-in:checked ~ .xr-var-attrs,\n",
       ".xr-var-data-in:checked ~ .xr-var-data {\n",
       "  display: block;\n",
       "}\n",
       "\n",
       ".xr-var-data > table {\n",
       "  float: right;\n",
       "}\n",
       "\n",
       ".xr-var-name span,\n",
       ".xr-var-data,\n",
       ".xr-attrs {\n",
       "  padding-left: 25px !important;\n",
       "}\n",
       "\n",
       ".xr-attrs,\n",
       ".xr-var-attrs,\n",
       ".xr-var-data {\n",
       "  grid-column: 1 / -1;\n",
       "}\n",
       "\n",
       "dl.xr-attrs {\n",
       "  padding: 0;\n",
       "  margin: 0;\n",
       "  display: grid;\n",
       "  grid-template-columns: 125px auto;\n",
       "}\n",
       "\n",
       ".xr-attrs dt,\n",
       ".xr-attrs dd {\n",
       "  padding: 0;\n",
       "  margin: 0;\n",
       "  float: left;\n",
       "  padding-right: 10px;\n",
       "  width: auto;\n",
       "}\n",
       "\n",
       ".xr-attrs dt {\n",
       "  font-weight: normal;\n",
       "  grid-column: 1;\n",
       "}\n",
       "\n",
       ".xr-attrs dt:hover span {\n",
       "  display: inline-block;\n",
       "  background: var(--xr-background-color);\n",
       "  padding-right: 10px;\n",
       "}\n",
       "\n",
       ".xr-attrs dd {\n",
       "  grid-column: 2;\n",
       "  white-space: pre-wrap;\n",
       "  word-break: break-all;\n",
       "}\n",
       "\n",
       ".xr-icon-database,\n",
       ".xr-icon-file-text2 {\n",
       "  display: inline-block;\n",
       "  vertical-align: middle;\n",
       "  width: 1em;\n",
       "  height: 1.5em !important;\n",
       "  stroke-width: 0;\n",
       "  stroke: currentColor;\n",
       "  fill: currentColor;\n",
       "}\n",
       "</style><pre class='xr-text-repr-fallback'>&lt;xarray.DataArray &#x27;tp&#x27; ()&gt;\n",
       "array(-1.50129199e-06)\n",
       "Coordinates:\n",
       "    latitude   float64 29.0\n",
       "    longitude  float64 84.0</pre><div class='xr-wrap' hidden><div class='xr-header'><div class='xr-obj-type'>xarray.DataArray</div><div class='xr-array-name'>'tp'</div></div><ul class='xr-sections'><li class='xr-section-item'><div class='xr-array-wrap'><input id='section-eec43756-4b82-4dfc-9c50-20e5a26dd7d2' class='xr-array-in' type='checkbox' checked><label for='section-eec43756-4b82-4dfc-9c50-20e5a26dd7d2' title='Show/hide data repr'><svg class='icon xr-icon-database'><use xlink:href='#icon-database'></use></svg></label><div class='xr-array-preview xr-preview'><span>-1.501e-06</span></div><div class='xr-array-data'><pre>array(-1.50129199e-06)</pre></div></div></li><li class='xr-section-item'><input id='section-4d59c9f2-cbfb-420b-a4f6-34c5b9af1380' class='xr-section-summary-in' type='checkbox'  checked><label for='section-4d59c9f2-cbfb-420b-a4f6-34c5b9af1380' class='xr-section-summary' >Coordinates: <span>(2)</span></label><div class='xr-section-inline-details'></div><div class='xr-section-details'><ul class='xr-var-list'><li class='xr-var-item'><div class='xr-var-name'><span>latitude</span></div><div class='xr-var-dims'>()</div><div class='xr-var-dtype'>float64</div><div class='xr-var-preview xr-preview'>29.0</div><input id='attrs-365dd95f-9cfa-4b28-a3b5-dd8b72a10937' class='xr-var-attrs-in' type='checkbox' disabled><label for='attrs-365dd95f-9cfa-4b28-a3b5-dd8b72a10937' title='Show/Hide attributes'><svg class='icon xr-icon-file-text2'><use xlink:href='#icon-file-text2'></use></svg></label><input id='data-0db90f1c-b401-490a-a9f5-4ea8d4fa920a' class='xr-var-data-in' type='checkbox'><label for='data-0db90f1c-b401-490a-a9f5-4ea8d4fa920a' title='Show/Hide data repr'><svg class='icon xr-icon-database'><use xlink:href='#icon-database'></use></svg></label><div class='xr-var-attrs'><dl class='xr-attrs'></dl></div><div class='xr-var-data'><pre>array(29.)</pre></div></li><li class='xr-var-item'><div class='xr-var-name'><span>longitude</span></div><div class='xr-var-dims'>()</div><div class='xr-var-dtype'>float64</div><div class='xr-var-preview xr-preview'>84.0</div><input id='attrs-a1c05323-9f6d-446d-90bb-548dd34581e2' class='xr-var-attrs-in' type='checkbox' disabled><label for='attrs-a1c05323-9f6d-446d-90bb-548dd34581e2' title='Show/Hide attributes'><svg class='icon xr-icon-file-text2'><use xlink:href='#icon-file-text2'></use></svg></label><input id='data-ce565b0a-0752-4ee7-a822-36a43862521d' class='xr-var-data-in' type='checkbox'><label for='data-ce565b0a-0752-4ee7-a822-36a43862521d' title='Show/Hide data repr'><svg class='icon xr-icon-database'><use xlink:href='#icon-database'></use></svg></label><div class='xr-var-attrs'><dl class='xr-attrs'></dl></div><div class='xr-var-data'><pre>array(84.)</pre></div></li></ul></div></li><li class='xr-section-item'><input id='section-12e324a7-ad28-4883-a388-d834290f71d7' class='xr-section-summary-in' type='checkbox' disabled ><label for='section-12e324a7-ad28-4883-a388-d834290f71d7' class='xr-section-summary'  title='Expand/collapse section'>Attributes: <span>(0)</span></label><div class='xr-section-inline-details'></div><div class='xr-section-details'><dl class='xr-attrs'></dl></div></li></ul></div></div>"
      ],
      "text/plain": [
       "<xarray.DataArray 'tp' ()>\n",
       "array(-1.50129199e-06)\n",
       "Coordinates:\n",
       "    latitude   float64 29.0\n",
       "    longitude  float64 84.0"
      ]
     },
     "execution_count": 56,
     "metadata": {},
     "output_type": "execute_result"
    },
    {
     "data": {
      "image/png": "[encoded data removed]",
      "text/plain": [
       "<Figure size 1440x360 with 1 Axes>"
      ]
     },
     "metadata": {
      "needs_background": "light"
     },
     "output_type": "display_data"
    }
   ],
   "source": [
    "plt.figure(figsize = (20, 5))\n",
    "cut_time.tp.plot()\n",
    "\n",
    "# all ts \n",
    "# cut_coords.tp.plot() # is last value negative? cut it out \n",
    "\n",
    "cut_time.tp.min()\n",
    "\n"
   ]
  },
  {
   "cell_type": "code",
   "execution_count": 57,
   "id": "c3f8b6b2-23ba-49f5-9b43-8e2340cdef57",
   "metadata": {},
   "outputs": [],
   "source": [
    "cut_timedf = cut_time.to_dataframe()"
   ]
  },
  {
   "cell_type": "code",
   "execution_count": 58,
   "id": "6d2a0bb7-3f12-4f8f-9a45-270183bc3b1b",
   "metadata": {},
   "outputs": [
    {
     "data": {
      "text/plain": [
       "latitude     29.000000\n",
       "longitude    84.000000\n",
       "tp           -0.000002\n",
       "Name: 2020-12-31 23:00:00, dtype: float64"
      ]
     },
     "execution_count": 58,
     "metadata": {},
     "output_type": "execute_result"
    }
   ],
   "source": [
    "cut_timedf.tp.min()\n",
    "\n",
    "# Find the row with the minimum value in the 'tp' column\n",
    "minrow = cut_timedf[cut_timedf['tp'] == cut_timedf['tp'].min()]\n",
    "\n",
    "# If there are multiple rows with the minimum value, you can select the first one\n",
    "minrow.iloc[0]\n"
   ]
  },
  {
   "cell_type": "code",
   "execution_count": null,
   "id": "9404aca7-80f9-4e6c-ac08-9b6e207233c1",
   "metadata": {},
   "outputs": [],
   "source": []
  },
  {
   "cell_type": "code",
   "execution_count": null,
   "id": "3b6edcf0-378f-4259-8f23-b9d028171aac",
   "metadata": {},
   "outputs": [],
   "source": []
  },
  {
   "cell_type": "markdown",
   "id": "538418f6-a1e5-405c-9f79-ef1cb59c4ccb",
   "metadata": {},
   "source": [
    "# all sort of tests to see if its correct"
   ]
  },
  {
   "cell_type": "code",
   "execution_count": 59,
   "id": "5957a1b5-cfa5-4ac4-bf8e-bbae04298719",
   "metadata": {},
   "outputs": [],
   "source": [
    "# # read all data\n",
    "\n",
    "directory = '/Users/varyabazilova/Desktop/uu/0_teaching/Msc_students/Leon/testera5land/ncfiles/'\n",
    "files = glob.glob(directory + '*.nc')\n",
    "\n",
    "# Use xarray.open_mfdataset to open and concatenate the .nc files\n",
    "data = xr.open_mfdataset(files)\n",
    "data = data.sortby('time')\n",
    "# data['tp'] = data.tp * 1000 # check units\n",
    "\n",
    "# shift 1 time step back \n",
    "data = data.shift(time= -1, fill_value=0).sortby('time')\n"
   ]
  },
  {
   "cell_type": "code",
   "execution_count": null,
   "id": "9df919d0-9ae2-4cbf-96b8-a26354dd017e",
   "metadata": {},
   "outputs": [],
   "source": []
  },
  {
   "cell_type": "code",
   "execution_count": 60,
   "id": "59628ce9-c317-42f9-a496-eb98b38335cc",
   "metadata": {},
   "outputs": [],
   "source": [
    "''' calculate the sum within day in a shifted data, compare with the max within the same day in the original data '''\n",
    "# slice coordinates\n",
    "data_coords= data.sel(latitude=29.0, longitude=84.0, method='nearest')\n",
    "data_time = data_coords.sel(time=slice(start_date, end_date))\n"
   ]
  },
  {
   "cell_type": "markdown",
   "id": "e0763d36-d79f-4ace-96bd-c6ec85e04589",
   "metadata": {},
   "source": [
    "### plot together "
   ]
  },
  {
   "cell_type": "code",
   "execution_count": 61,
   "id": "16212399-f342-4c7e-bf51-7813a0cffcac",
   "metadata": {},
   "outputs": [
    {
     "data": {
      "text/plain": [
       "<matplotlib.legend.Legend at 0x7f9f08c64d10>"
      ]
     },
     "execution_count": 61,
     "metadata": {},
     "output_type": "execute_result"
    },
    {
     "data": {
      "image/png": "[encoded data removed]",
      "text/plain": [
       "<Figure size 1440x360 with 1 Axes>"
      ]
     },
     "metadata": {
      "needs_background": "light"
     },
     "output_type": "display_data"
    }
   ],
   "source": [
    "plt.figure(figsize = (20, 5))\n",
    "cut_coords.tp[:100].plot(label = ' changed', marker = '.')\n",
    "data_coords.tp[:100].plot(label = ' tp', marker = '.')\n",
    "\n",
    "plt.legend()"
   ]
  },
  {
   "cell_type": "markdown",
   "id": "5c0ba280-d716-4708-b7b5-6ceb029f6c08",
   "metadata": {},
   "source": [
    "### calculate sum/max for a day"
   ]
  },
  {
   "cell_type": "code",
   "execution_count": 62,
   "id": "891f02dc-8d75-4dc5-9aee-316ae6c3711a",
   "metadata": {},
   "outputs": [
    {
     "name": "stdout",
     "output_type": "stream",
     "text": [
      "new hourly data - daily sum: 0.0\n",
      "original data - daily max (cumulative sum): 2e-06\n"
     ]
    }
   ],
   "source": [
    "# slice data - take a day  \n",
    "start_date = '2020-12-31T00:00:00.000000000'\n",
    "end_date = '2020-12-31T23:00:00.000000000'\n",
    "\n",
    "# Slice the dataset for a day \n",
    "cut_time = cut_coords.sel(time=slice(start_date, end_date))\n",
    "data_time = data_coords.sel(time=slice(start_date, end_date))\n",
    "\n",
    "print('new hourly data - daily sum:', round(cut_time.tp.values.sum(), 6))\n",
    "print('original data - daily max (cumulative sum):', round(data_time.tp.values.max(), 6))\n",
    "\n"
   ]
  },
  {
   "cell_type": "code",
   "execution_count": 63,
   "id": "b051527e-b19d-4ba8-8105-fbc48767d37a",
   "metadata": {},
   "outputs": [
    {
     "data": {
      "text/plain": [
       "<matplotlib.legend.Legend at 0x7f9f01406e50>"
      ]
     },
     "execution_count": 63,
     "metadata": {},
     "output_type": "execute_result"
    },
    {
     "data": {
      "image/png": "[encoded data removed]",
      "text/plain": [
       "<Figure size 1440x360 with 1 Axes>"
      ]
     },
     "metadata": {
      "needs_background": "light"
     },
     "output_type": "display_data"
    }
   ],
   "source": [
    "plt.figure(figsize = (20, 5))\n",
    "cut_time.tp.plot(label = 'changed')\n",
    "# data_time.tp[:1000].plot(label = 'tp')\n",
    "\n",
    "plt.legend()"
   ]
  },
  {
   "cell_type": "markdown",
   "id": "4bb64d04-0cee-4a84-b4cd-18be8f7069aa",
   "metadata": {},
   "source": [
    "## data one by one "
   ]
  },
  {
   "cell_type": "code",
   "execution_count": 64,
   "id": "86ba84cf-77be-4475-b272-a8f1e0abb2fc",
   "metadata": {},
   "outputs": [],
   "source": [
    "# open just one file, look what are the values for first and last days of year \n",
    "\n",
    "data2020 = xr.open_dataset('/Users/varyabazilova/Desktop/uu/0_teaching/Msc_students/Leon/testera5land/ncfiles/2020.nc').sel(latitude=29.0, longitude=84.0, method='nearest').shift(time = -1)\n",
    "data2021 = xr.open_dataset('/Users/varyabazilova/Desktop/uu/0_teaching/Msc_students/Leon/testera5land/ncfiles/2021.nc').sel(latitude=29.0, longitude=84.0, method='nearest').shift(time = -1)\n",
    "data2022 = xr.open_dataset('/Users/varyabazilova/Desktop/uu/0_teaching/Msc_students/Leon/testera5land/ncfiles/2022.nc').sel(latitude=29.0, longitude=84.0, method='nearest').shift(time = -1)\n"
   ]
  },
  {
   "cell_type": "code",
   "execution_count": 65,
   "id": "bb0da422-2534-41fa-b48a-f6229cc95bff",
   "metadata": {},
   "outputs": [],
   "source": [
    "start0 = '2020-01-01T00:00:00.000000000'\n",
    "end0  = '2020-01-02T23:00:00.000000000'\n",
    "data2020_cut = data2020.sel(time = slice(start0, end0))\n",
    "\n",
    "start1 = '2021-06-30T00:00:00.000000000'\n",
    "end1  = '2021-12-31T23:00:00.000000000'\n",
    "data2021_cut = data2021.sel(time = slice(start1, end1))\n",
    "\n",
    "start2 = '2022-01-01T00:00:00.000000000'\n",
    "end2   = '2022-01-02T23:00:00.000000000'\n",
    "data2022_cut = data2022.sel(time = slice(start2, end2))"
   ]
  },
  {
   "cell_type": "code",
   "execution_count": null,
   "id": "1054dd56-32c1-4abc-b54b-30b6b1ce2593",
   "metadata": {},
   "outputs": [],
   "source": []
  },
  {
   "cell_type": "code",
   "execution_count": null,
   "id": "8f508639-6867-4e72-bf3b-0c377e5c64be",
   "metadata": {},
   "outputs": [],
   "source": []
  },
  {
   "cell_type": "code",
   "execution_count": null,
   "id": "ee46750a-39cb-4a93-b451-2dba924cd695",
   "metadata": {},
   "outputs": [],
   "source": []
  },
  {
   "cell_type": "code",
   "execution_count": null,
   "id": "bfcf2cab-ba71-4b4b-b779-a5bb9634a974",
   "metadata": {},
   "outputs": [],
   "source": [
    "newdata = empty_dataset.sel(latitude=29.0, longitude=84.0, method='nearest').sortby('time')\n",
    "newdata1 = newdata.sel(time = slice(start1, end1))"
   ]
  },
  {
   "cell_type": "code",
   "execution_count": null,
   "id": "140d6809-4bcc-4547-8649-2e9657c8ad17",
   "metadata": {},
   "outputs": [],
   "source": [
    "plt.figure(figsize = (10, 5))\n",
    "data2021_cut.tp.plot(label = 'tp')\n",
    "newdata1.precipitation.plot(label = 'newdata')\n",
    "\n",
    "plt.legend()"
   ]
  },
  {
   "cell_type": "code",
   "execution_count": null,
   "id": "66522638-0086-4fa5-ac59-a50aa9cc1c1d",
   "metadata": {},
   "outputs": [],
   "source": [
    "newdatadf = newdata.to_dataframe()\n",
    "newdatadf[:25]"
   ]
  },
  {
   "cell_type": "code",
   "execution_count": null,
   "id": "6df150db-826b-44f1-9904-fa043290ede3",
   "metadata": {},
   "outputs": [],
   "source": [
    "data2020df = data2020.to_dataframe()\n",
    "data2020df[:25]"
   ]
  },
  {
   "cell_type": "code",
   "execution_count": null,
   "id": "0d2cff37-28e3-4df1-939b-203af033fc87",
   "metadata": {},
   "outputs": [],
   "source": [
    "plt.figure(figsize = (20, 5))\n",
    "\n",
    "# data2020df.tp[:200].plot(label = 'data 2020')\n",
    "newdatadf.precipitation[:20000].plot(label = 'new data')\n",
    "\n"
   ]
  },
  {
   "cell_type": "code",
   "execution_count": null,
   "id": "14aeb5b6-43a5-415c-bb4a-a2db23eae1e6",
   "metadata": {},
   "outputs": [],
   "source": []
  },
  {
   "cell_type": "code",
   "execution_count": null,
   "id": "cf452d62-e1ef-4a4a-ab02-334b86ec5899",
   "metadata": {},
   "outputs": [],
   "source": []
  },
  {
   "cell_type": "markdown",
   "id": "a45ebb74-7926-4dd1-9644-130b25f2a7cc",
   "metadata": {},
   "source": [
    "## convert to dataframe to see what is goin on "
   ]
  },
  {
   "cell_type": "code",
   "execution_count": 72,
   "id": "dfd09f2d-c9e7-4954-b5b7-7d5068656c53",
   "metadata": {},
   "outputs": [
    {
     "name": "stdout",
     "output_type": "stream",
     "text": [
      "Rows with negative values:\n"
     ]
    },
    {
     "data": {
      "text/html": [
       "<div>\n",
       "<style scoped>\n",
       "    .dataframe tbody tr th:only-of-type {\n",
       "        vertical-align: middle;\n",
       "    }\n",
       "\n",
       "    .dataframe tbody tr th {\n",
       "        vertical-align: top;\n",
       "    }\n",
       "\n",
       "    .dataframe thead th {\n",
       "        text-align: right;\n",
       "    }\n",
       "</style>\n",
       "<table border=\"1\" class=\"dataframe\">\n",
       "  <thead>\n",
       "    <tr style=\"text-align: right;\">\n",
       "      <th></th>\n",
       "      <th></th>\n",
       "      <th></th>\n",
       "      <th>tp</th>\n",
       "    </tr>\n",
       "    <tr>\n",
       "      <th>latitude</th>\n",
       "      <th>longitude</th>\n",
       "      <th>time</th>\n",
       "      <th></th>\n",
       "    </tr>\n",
       "  </thead>\n",
       "  <tbody>\n",
       "    <tr>\n",
       "      <th rowspan=\"5\" valign=\"top\">29.4</th>\n",
       "      <th rowspan=\"4\" valign=\"top\">83.400002</th>\n",
       "      <th>2020-12-31 23:00:00</th>\n",
       "      <td>-0.000002</td>\n",
       "    </tr>\n",
       "    <tr>\n",
       "      <th>2021-12-31 23:00:00</th>\n",
       "      <td>-0.000002</td>\n",
       "    </tr>\n",
       "    <tr>\n",
       "      <th>2022-01-13 17:00:00</th>\n",
       "      <td>-0.000001</td>\n",
       "    </tr>\n",
       "    <tr>\n",
       "      <th>2022-12-31 23:00:00</th>\n",
       "      <td>-0.000026</td>\n",
       "    </tr>\n",
       "    <tr>\n",
       "      <th>83.500000</th>\n",
       "      <th>2020-12-31 23:00:00</th>\n",
       "      <td>-0.000002</td>\n",
       "    </tr>\n",
       "    <tr>\n",
       "      <th>...</th>\n",
       "      <th>...</th>\n",
       "      <th>...</th>\n",
       "      <td>...</td>\n",
       "    </tr>\n",
       "    <tr>\n",
       "      <th rowspan=\"5\" valign=\"top\">28.5</th>\n",
       "      <th rowspan=\"2\" valign=\"top\">84.199997</th>\n",
       "      <th>2021-12-31 23:00:00</th>\n",
       "      <td>-0.000358</td>\n",
       "    </tr>\n",
       "    <tr>\n",
       "      <th>2022-12-31 23:00:00</th>\n",
       "      <td>-0.002130</td>\n",
       "    </tr>\n",
       "    <tr>\n",
       "      <th rowspan=\"3\" valign=\"top\">84.300003</th>\n",
       "      <th>2020-12-31 23:00:00</th>\n",
       "      <td>-0.000002</td>\n",
       "    </tr>\n",
       "    <tr>\n",
       "      <th>2021-12-31 23:00:00</th>\n",
       "      <td>-0.000360</td>\n",
       "    </tr>\n",
       "    <tr>\n",
       "      <th>2022-12-31 23:00:00</th>\n",
       "      <td>-0.002031</td>\n",
       "    </tr>\n",
       "  </tbody>\n",
       "</table>\n",
       "<p>351 rows × 1 columns</p>\n",
       "</div>"
      ],
      "text/plain": [
       "                                              tp\n",
       "latitude longitude time                         \n",
       "29.4     83.400002 2020-12-31 23:00:00 -0.000002\n",
       "                   2021-12-31 23:00:00 -0.000002\n",
       "                   2022-01-13 17:00:00 -0.000001\n",
       "                   2022-12-31 23:00:00 -0.000026\n",
       "         83.500000 2020-12-31 23:00:00 -0.000002\n",
       "...                                          ...\n",
       "28.5     84.199997 2021-12-31 23:00:00 -0.000358\n",
       "                   2022-12-31 23:00:00 -0.002130\n",
       "         84.300003 2020-12-31 23:00:00 -0.000002\n",
       "                   2021-12-31 23:00:00 -0.000360\n",
       "                   2022-12-31 23:00:00 -0.002031\n",
       "\n",
       "[351 rows x 1 columns]"
      ]
     },
     "execution_count": 72,
     "metadata": {},
     "output_type": "execute_result"
    }
   ],
   "source": [
    "newdatadf = empty_dataset.to_dataframe()\n",
    "\n",
    "\n",
    "# Filter and print rows with negative values in the selected column\n",
    "negative_rows = newdatadf[newdatadf.tp < 0]\n",
    "print(\"Rows with negative values:\")\n",
    "\n",
    "negative_rows"
   ]
  },
  {
   "cell_type": "code",
   "execution_count": 73,
   "id": "4e3f5e26-77e4-48c2-9b2f-9291fdfdecfd",
   "metadata": {},
   "outputs": [
    {
     "data": {
      "text/plain": [
       "-0.00995861366391182"
      ]
     },
     "execution_count": 73,
     "metadata": {},
     "output_type": "execute_result"
    }
   ],
   "source": [
    "negative_rows.tp.min()\n",
    "\n"
   ]
  },
  {
   "cell_type": "code",
   "execution_count": 74,
   "id": "0e5c6cdf-6c51-43b9-a89f-1e1d1c1b53be",
   "metadata": {},
   "outputs": [],
   "source": [
    "negative_rows = negative_rows.reset_index()"
   ]
  },
  {
   "cell_type": "code",
   "execution_count": 75,
   "id": "9d8267c9-d250-41e4-8257-af6065013bc9",
   "metadata": {},
   "outputs": [],
   "source": [
    "negative_rows['hour'] = negative_rows.time.dt.hour"
   ]
  },
  {
   "cell_type": "code",
   "execution_count": 76,
   "id": "33d69795-0614-4c17-92d8-10891f41fa97",
   "metadata": {},
   "outputs": [
    {
     "data": {
      "text/plain": [
       "array([23, 17, 18, 16, 19, 14,  4, 20,  5, 12, 15, 13, 22, 21,  9, 11,  6,\n",
       "       10,  8])"
      ]
     },
     "execution_count": 76,
     "metadata": {},
     "output_type": "execute_result"
    }
   ],
   "source": [
    "negative_rows['hour'].unique()"
   ]
  },
  {
   "cell_type": "code",
   "execution_count": 77,
   "id": "886475d2-8633-4bbd-a671-bb4c3c7edd8b",
   "metadata": {},
   "outputs": [],
   "source": [
    "negative_rows1 = negative_rows[negative_rows.hour == 5]"
   ]
  },
  {
   "cell_type": "code",
   "execution_count": 78,
   "id": "81b20abd-85d6-402f-9af6-ef2116a013ce",
   "metadata": {},
   "outputs": [
    {
     "data": {
      "text/plain": [
       "351"
      ]
     },
     "execution_count": 78,
     "metadata": {},
     "output_type": "execute_result"
    }
   ],
   "source": [
    "len(negative_rows)\n"
   ]
  },
  {
   "cell_type": "code",
   "execution_count": null,
   "id": "0aa9a201-1695-4a1c-b872-3b1290ffeaa7",
   "metadata": {},
   "outputs": [],
   "source": []
  },
  {
   "cell_type": "code",
   "execution_count": null,
   "id": "69fc8209-0666-4cfb-b4d6-f7dbc4c87f5a",
   "metadata": {},
   "outputs": [],
   "source": []
  }
 ],
 "metadata": {
  "kernelspec": {
   "display_name": "Python [conda env:project1] *",
   "language": "python",
   "name": "conda-env-project1-py"
  },
  "language_info": {
   "codemirror_mode": {
    "name": "ipython",
    "version": 3
   },
   "file_extension": ".py",
   "mimetype": "text/x-python",
   "name": "python",
   "nbconvert_exporter": "python",
   "pygments_lexer": "ipython3",
   "version": "3.7.11"
  }
 },
 "nbformat": 4,
 "nbformat_minor": 5
}
